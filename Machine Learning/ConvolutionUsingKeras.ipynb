{
  "nbformat": 4,
  "nbformat_minor": 0,
  "metadata": {
    "colab": {
      "name": "ConvolutionUsingKeras.ipynb",
      "provenance": [],
      "collapsed_sections": [],
      "include_colab_link": true
    },
    "kernelspec": {
      "name": "python3",
      "display_name": "Python 3"
    }
  },
  "cells": [
    {
      "cell_type": "markdown",
      "metadata": {
        "id": "view-in-github",
        "colab_type": "text"
      },
      "source": [
        "<a href=\"https://colab.research.google.com/github/sonudoo/DSA/blob/master/Machine%20Learning/ConvolutionUsingKeras.ipynb\" target=\"_parent\"><img src=\"https://colab.research.google.com/assets/colab-badge.svg\" alt=\"Open In Colab\"/></a>"
      ]
    },
    {
      "cell_type": "code",
      "metadata": {
        "id": "4SpNj-XQmBVQ",
        "colab_type": "code",
        "colab": {}
      },
      "source": [
        "from tensorflow.keras.layers import Conv2D, MaxPooling2D, ZeroPadding2D, BatchNormalization, Flatten, Dense, Input, Activation\n",
        "from tensorflow.keras.models import Model\n",
        "import h5py\n",
        "from matplotlib import pyplot as plt\n",
        "from google.colab import drive"
      ],
      "execution_count": 0,
      "outputs": []
    },
    {
      "cell_type": "code",
      "metadata": {
        "id": "QqfLn3ukmcR7",
        "colab_type": "code",
        "colab": {
          "base_uri": "https://localhost:8080/",
          "height": 35
        },
        "outputId": "5c33fb14-ccd2-48ea-b29d-50e2dd610e3a"
      },
      "source": [
        "drive.mount('/content/drive')"
      ],
      "execution_count": 2,
      "outputs": [
        {
          "output_type": "stream",
          "text": [
            "Drive already mounted at /content/drive; to attempt to forcibly remount, call drive.mount(\"/content/drive\", force_remount=True).\n"
          ],
          "name": "stdout"
        }
      ]
    },
    {
      "cell_type": "code",
      "metadata": {
        "id": "1n8BJSYJmjLJ",
        "colab_type": "code",
        "colab": {
          "base_uri": "https://localhost:8080/",
          "height": 121
        },
        "outputId": "b87ac846-1f63-450d-9851-1613e23f4eb8"
      },
      "source": [
        "filename = \"/content/drive/My Drive/Colab Notebooks/datasets/HAPPYHOUSE/train_happy.h5\"\n",
        "\n",
        "f = h5py.File(filename, 'r')\n",
        "for key in f.keys():\n",
        "    print(key) # Keys in the file\n",
        "    \n",
        "X_train = f['train_set_x'].value\n",
        "Y_train = f['train_set_y'].value\n",
        "list_classes = f['list_classes'].value\n",
        "\n",
        "filename = \"/content/drive/My Drive/Colab Notebooks/datasets/HAPPYHOUSE/test_happy.h5\"\n",
        "\n",
        "f = h5py.File(filename, 'r')\n",
        "\n",
        "for key in f.keys():\n",
        "    print(key) # Keys in the file\n",
        "\n",
        "X_test = f['test_set_x'].value\n",
        "Y_test = f['test_set_y'].value"
      ],
      "execution_count": 3,
      "outputs": [
        {
          "output_type": "stream",
          "text": [
            "list_classes\n",
            "train_set_x\n",
            "train_set_y\n",
            "list_classes\n",
            "test_set_x\n",
            "test_set_y\n"
          ],
          "name": "stdout"
        }
      ]
    },
    {
      "cell_type": "code",
      "metadata": {
        "id": "v67Ou9fWnGqo",
        "colab_type": "code",
        "colab": {
          "base_uri": "https://localhost:8080/",
          "height": 141
        },
        "outputId": "6f414159-6c65-4443-e734-abe4e16f36a2"
      },
      "source": [
        "X_input = Input(X_train[0].shape)\n",
        "X = ZeroPadding2D((3, 3))(X_input)\n",
        "X = Conv2D(32, (3, 3), strides=(1,1), name='conv1')(X)\n",
        "X = BatchNormalization(axis=3, name='bn1')(X)\n",
        "X = MaxPooling2D((2, 2), name='maxpool1')(X)\n",
        "X = Activation('relu')(X)\n",
        "X = Conv2D(64, (5, 5), strides=(1, 1), name='conv2')(X)\n",
        "X = BatchNormalization(axis=3, name='bn2')(X)\n",
        "X = MaxPooling2D((2, 2), name='maxpool2')(X)\n",
        "X = Activation('relu')(X)\n",
        "X = Flatten()(X)\n",
        "X = Dense(units=10, kernel_initializer='uniform', activation='relu', name='dense3')(X)\n",
        "X = Dense(units=1, kernel_initializer='uniform', activation='sigmoid', name='dense4')(X)\n",
        "model = Model(inputs=X_input, outputs=X, name='Convolution Model')"
      ],
      "execution_count": 4,
      "outputs": [
        {
          "output_type": "stream",
          "text": [
            "WARNING:tensorflow:From /usr/local/lib/python3.6/dist-packages/tensorflow/python/ops/init_ops.py:1251: calling VarianceScaling.__init__ (from tensorflow.python.ops.init_ops) with dtype is deprecated and will be removed in a future version.\n",
            "Instructions for updating:\n",
            "Call initializer instance with the dtype argument instead of passing it to the constructor\n",
            "WARNING:tensorflow:From /usr/local/lib/python3.6/dist-packages/tensorflow/python/keras/initializers.py:119: calling RandomUniform.__init__ (from tensorflow.python.ops.init_ops) with dtype is deprecated and will be removed in a future version.\n",
            "Instructions for updating:\n",
            "Call initializer instance with the dtype argument instead of passing it to the constructor\n"
          ],
          "name": "stdout"
        }
      ]
    },
    {
      "cell_type": "code",
      "metadata": {
        "id": "wC8MxqqFnJlL",
        "colab_type": "code",
        "colab": {
          "base_uri": "https://localhost:8080/",
          "height": 89
        },
        "outputId": "92529d83-e631-4aef-b7fe-123d700de9c5"
      },
      "source": [
        "model.compile(optimizer = \"adam\", loss=\"binary_crossentropy\", metrics = [\"accuracy\"])"
      ],
      "execution_count": 5,
      "outputs": [
        {
          "output_type": "stream",
          "text": [
            "WARNING:tensorflow:From /usr/local/lib/python3.6/dist-packages/tensorflow/python/ops/nn_impl.py:180: add_dispatch_support.<locals>.wrapper (from tensorflow.python.ops.array_ops) is deprecated and will be removed in a future version.\n",
            "Instructions for updating:\n",
            "Use tf.where in 2.0, which has the same broadcast rule as np.where\n"
          ],
          "name": "stdout"
        }
      ]
    },
    {
      "cell_type": "code",
      "metadata": {
        "id": "ET_f2VVInMLl",
        "colab_type": "code",
        "colab": {
          "base_uri": "https://localhost:8080/",
          "height": 1000
        },
        "outputId": "92b4ae04-6628-4f6c-9f06-61539a30d42e"
      },
      "source": [
        "model.fit(x = X_train, y = Y_train, epochs = 40, batch_size = 16)"
      ],
      "execution_count": 6,
      "outputs": [
        {
          "output_type": "stream",
          "text": [
            "Epoch 1/40\n",
            "600/600 [==============================] - 9s 15ms/sample - loss: 0.7036 - acc: 0.5067\n",
            "Epoch 2/40\n",
            "600/600 [==============================] - 9s 14ms/sample - loss: 0.6165 - acc: 0.6733\n",
            "Epoch 3/40\n",
            "600/600 [==============================] - 9s 14ms/sample - loss: 0.4705 - acc: 0.8383\n",
            "Epoch 4/40\n",
            "600/600 [==============================] - 9s 14ms/sample - loss: 0.4274 - acc: 0.9017\n",
            "Epoch 5/40\n",
            "600/600 [==============================] - 9s 15ms/sample - loss: 0.3978 - acc: 0.9167\n",
            "Epoch 6/40\n",
            "600/600 [==============================] - 9s 15ms/sample - loss: 0.3678 - acc: 0.9550\n",
            "Epoch 7/40\n",
            "600/600 [==============================] - 9s 14ms/sample - loss: 0.3490 - acc: 0.9583\n",
            "Epoch 8/40\n",
            "600/600 [==============================] - 9s 14ms/sample - loss: 0.3449 - acc: 0.9517\n",
            "Epoch 9/40\n",
            "600/600 [==============================] - 8s 14ms/sample - loss: 0.3289 - acc: 0.9717\n",
            "Epoch 10/40\n",
            "600/600 [==============================] - 9s 14ms/sample - loss: 0.3003 - acc: 0.9833\n",
            "Epoch 11/40\n",
            "600/600 [==============================] - 9s 14ms/sample - loss: 0.2919 - acc: 0.9833\n",
            "Epoch 12/40\n",
            "600/600 [==============================] - 9s 14ms/sample - loss: 0.2849 - acc: 0.9800\n",
            "Epoch 13/40\n",
            "600/600 [==============================] - 9s 14ms/sample - loss: 0.2797 - acc: 0.9800\n",
            "Epoch 14/40\n",
            "600/600 [==============================] - 9s 14ms/sample - loss: 0.2764 - acc: 0.9733\n",
            "Epoch 15/40\n",
            "600/600 [==============================] - 9s 14ms/sample - loss: 0.2606 - acc: 0.9850\n",
            "Epoch 16/40\n",
            "600/600 [==============================] - 9s 14ms/sample - loss: 0.2540 - acc: 0.9883\n",
            "Epoch 17/40\n",
            "600/600 [==============================] - 9s 14ms/sample - loss: 0.2443 - acc: 0.9900\n",
            "Epoch 18/40\n",
            "600/600 [==============================] - 9s 14ms/sample - loss: 0.2451 - acc: 0.9833\n",
            "Epoch 19/40\n",
            "600/600 [==============================] - 9s 14ms/sample - loss: 0.2370 - acc: 0.9883\n",
            "Epoch 20/40\n",
            "600/600 [==============================] - 9s 15ms/sample - loss: 0.2361 - acc: 0.9833\n",
            "Epoch 21/40\n",
            "600/600 [==============================] - 9s 14ms/sample - loss: 0.2146 - acc: 0.9933\n",
            "Epoch 22/40\n",
            "600/600 [==============================] - 9s 14ms/sample - loss: 0.2127 - acc: 0.9900\n",
            "Epoch 23/40\n",
            "600/600 [==============================] - 9s 14ms/sample - loss: 0.2043 - acc: 0.9933\n",
            "Epoch 24/40\n",
            "600/600 [==============================] - 9s 14ms/sample - loss: 0.1961 - acc: 0.9950\n",
            "Epoch 25/40\n",
            "600/600 [==============================] - 9s 14ms/sample - loss: 0.1881 - acc: 0.9983\n",
            "Epoch 26/40\n",
            "600/600 [==============================] - 9s 14ms/sample - loss: 0.1864 - acc: 0.9933\n",
            "Epoch 27/40\n",
            "600/600 [==============================] - 9s 14ms/sample - loss: 0.1828 - acc: 0.9950\n",
            "Epoch 28/40\n",
            "600/600 [==============================] - 9s 14ms/sample - loss: 0.1789 - acc: 0.9933\n",
            "Epoch 29/40\n",
            "600/600 [==============================] - 9s 14ms/sample - loss: 0.1694 - acc: 0.9983\n",
            "Epoch 30/40\n",
            "600/600 [==============================] - 9s 14ms/sample - loss: 0.1676 - acc: 0.9950\n",
            "Epoch 31/40\n",
            "600/600 [==============================] - 9s 15ms/sample - loss: 0.1664 - acc: 0.9933\n",
            "Epoch 32/40\n",
            "600/600 [==============================] - 9s 14ms/sample - loss: 0.1567 - acc: 0.9983\n",
            "Epoch 33/40\n",
            "600/600 [==============================] - 9s 14ms/sample - loss: 0.1528 - acc: 0.9983\n",
            "Epoch 34/40\n",
            "600/600 [==============================] - 9s 14ms/sample - loss: 0.1549 - acc: 0.9967\n",
            "Epoch 35/40\n",
            "600/600 [==============================] - 9s 14ms/sample - loss: 0.1480 - acc: 0.9983\n",
            "Epoch 36/40\n",
            "600/600 [==============================] - 9s 14ms/sample - loss: 0.1459 - acc: 0.9967\n",
            "Epoch 37/40\n",
            "600/600 [==============================] - 9s 14ms/sample - loss: 0.1386 - acc: 0.9983\n",
            "Epoch 38/40\n",
            "600/600 [==============================] - 9s 14ms/sample - loss: 0.1355 - acc: 0.9983\n",
            "Epoch 39/40\n",
            "600/600 [==============================] - 8s 14ms/sample - loss: 0.1326 - acc: 0.9983\n",
            "Epoch 40/40\n",
            "600/600 [==============================] - 9s 15ms/sample - loss: 0.1296 - acc: 0.9983\n"
          ],
          "name": "stdout"
        },
        {
          "output_type": "execute_result",
          "data": {
            "text/plain": [
              "<tensorflow.python.keras.callbacks.History at 0x7fec8bcc4358>"
            ]
          },
          "metadata": {
            "tags": []
          },
          "execution_count": 6
        }
      ]
    },
    {
      "cell_type": "code",
      "metadata": {
        "id": "KC4Ktw6xnObI",
        "colab_type": "code",
        "colab": {
          "base_uri": "https://localhost:8080/",
          "height": 69
        },
        "outputId": "3d836f94-2f82-4d49-a32d-756745159e4c"
      },
      "source": [
        "preds = model.evaluate(x = X_test, y = Y_test)\n",
        "print (\"Loss = \" + str(preds[0]))\n",
        "print (\"Test Accuracy = \" + str(preds[1]))"
      ],
      "execution_count": 7,
      "outputs": [
        {
          "output_type": "stream",
          "text": [
            "150/150 [==============================] - 1s 4ms/sample - loss: 0.1830 - acc: 0.9800\n",
            "Loss = 0.18299434701601663\n",
            "Test Accuracy = 0.98\n"
          ],
          "name": "stdout"
        }
      ]
    },
    {
      "cell_type": "code",
      "metadata": {
        "id": "YMTY_K57nQyV",
        "colab_type": "code",
        "colab": {}
      },
      "source": [
        ""
      ],
      "execution_count": 0,
      "outputs": []
    }
  ]
}