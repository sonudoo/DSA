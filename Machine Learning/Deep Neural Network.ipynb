{
 "cells": [
  {
   "cell_type": "code",
   "execution_count": 40,
   "metadata": {
    "collapsed": true
   },
   "outputs": [],
   "source": [
    "import numpy as np"
   ]
  },
  {
   "cell_type": "raw",
   "metadata": {},
   "source": []
  },
  {
   "cell_type": "code",
   "execution_count": 41,
   "metadata": {
    "collapsed": true
   },
   "outputs": [],
   "source": [
    "def sigmoid(x):\n",
    "    return 1/(1+np.exp(-x))\n",
    "\n",
    "def sigmoid_derivative(x):\n",
    "    sx = sigmoid(x)\n",
    "    return sx*(1-sx)"
   ]
  },
  {
   "cell_type": "code",
   "execution_count": 101,
   "metadata": {
    "collapsed": false
   },
   "outputs": [
    {
     "name": "stdout",
     "output_type": "stream",
     "text": [
      "[[0 0 1 1]\n",
      " [0 1 0 1]]\n",
      "[[0]\n",
      " [1]\n",
      " [1]\n",
      " [0]]\n"
     ]
    }
   ],
   "source": [
    "X = np.array([[0, 0, 1, 1], \n",
    "              [0, 1, 0, 1]])\n",
    "Y = np.array([[0],\n",
    "             [1],\n",
    "             [1],\n",
    "             [0]])\n",
    "m = X.shape[1]\n",
    "print(X)\n",
    "print(Y)"
   ]
  },
  {
   "cell_type": "code",
   "execution_count": 102,
   "metadata": {
    "collapsed": false
   },
   "outputs": [
    {
     "name": "stdout",
     "output_type": "stream",
     "text": [
      "{'2': array([[ 1.74481176, -0.7612069 ]]), '1': array([[ 1.62434536, -0.61175641],\n",
      "       [-0.52817175, -1.07296862]])}\n",
      "{'2': array([[ 0.3190391]]), '1': array([[ 0.86540763],\n",
      "       [-2.3015387 ]])}\n"
     ]
    }
   ],
   "source": [
    "layers_size = [2, 2, 1]\n",
    "L = len(layers_size)-1\n",
    "W = dict()\n",
    "b = dict()\n",
    "np.random.seed(1)\n",
    "for i in range(1, L+1):\n",
    "    W[str(i)] = np.random.randn(layers_size[i], layers_size[i-1])\n",
    "    b[str(i)] = np.random.randn(layers_size[i], 1)\n",
    "    assert(W[str(i)].shape == (layers_size[i], layers_size[i-1]))\n",
    "\n",
    "print(W)\n",
    "print(b)"
   ]
  },
  {
   "cell_type": "code",
   "execution_count": null,
   "metadata": {
    "collapsed": false
   },
   "outputs": [
    {
     "name": "stdout",
     "output_type": "stream",
     "text": [
      "Cost after 0 iterations is 0.629458958292\n",
      "Cost after 10000 iterations is 0.47738793354\n",
      "Cost after 20000 iterations is 0.477387933078\n",
      "Cost after 30000 iterations is 0.477387932617\n",
      "Cost after 40000 iterations is 0.477387932157\n",
      "Cost after 50000 iterations is 0.477387931696\n",
      "Cost after 60000 iterations is 0.477387931236\n",
      "Cost after 70000 iterations is 0.477387930776\n",
      "Cost after 80000 iterations is 0.477387930316\n",
      "Cost after 90000 iterations is 0.477387929856\n",
      "Cost after 100000 iterations is 0.477387929397\n",
      "Cost after 110000 iterations is 0.477387928938\n",
      "Cost after 120000 iterations is 0.477387928479\n",
      "Cost after 130000 iterations is 0.477387928021\n",
      "Cost after 140000 iterations is 0.477387927562\n",
      "Cost after 150000 iterations is 0.477387927104\n",
      "Cost after 160000 iterations is 0.477387926646\n",
      "Cost after 170000 iterations is 0.477387926189\n",
      "Cost after 180000 iterations is 0.477387925731\n",
      "Cost after 190000 iterations is 0.477387925274\n",
      "Cost after 200000 iterations is 0.477387924817\n",
      "Cost after 210000 iterations is 0.47738792436\n",
      "Cost after 220000 iterations is 0.477387923904\n",
      "Cost after 230000 iterations is 0.477387923448\n",
      "Cost after 240000 iterations is 0.477387922992\n",
      "Cost after 250000 iterations is 0.477387922536\n",
      "Cost after 260000 iterations is 0.47738792208\n",
      "Cost after 270000 iterations is 0.477387921625\n",
      "Cost after 280000 iterations is 0.47738792117\n",
      "Cost after 290000 iterations is 0.477387920715\n",
      "Cost after 300000 iterations is 0.477387920261\n",
      "Cost after 310000 iterations is 0.477387919806\n",
      "Cost after 320000 iterations is 0.477387919352\n",
      "Cost after 330000 iterations is 0.477387918898\n",
      "Cost after 340000 iterations is 0.477387918445\n",
      "Cost after 350000 iterations is 0.477387917991\n",
      "Cost after 360000 iterations is 0.477387917538\n",
      "Cost after 370000 iterations is 0.477387917085\n",
      "Cost after 380000 iterations is 0.477387916632\n",
      "Cost after 390000 iterations is 0.47738791618\n",
      "Cost after 400000 iterations is 0.477387915728\n",
      "Cost after 410000 iterations is 0.477387915276\n",
      "Cost after 420000 iterations is 0.477387914824\n",
      "Cost after 430000 iterations is 0.477387914372\n",
      "Cost after 440000 iterations is 0.477387913921\n",
      "Cost after 450000 iterations is 0.47738791347\n",
      "Cost after 460000 iterations is 0.477387913019\n",
      "Cost after 470000 iterations is 0.477387912568\n"
     ]
    }
   ],
   "source": [
    "Z = dict()\n",
    "A = dict()\n",
    "learning_rate = 0.01\n",
    "\n",
    "for i in range(10000000):\n",
    "    \n",
    "    #Forward Propagation\n",
    "    A['0'] = X\n",
    "    for j in range(1,L+1):\n",
    "        Z[str(j)] = np.dot(W[str(j)], A[str(j-1)]) + b[str(j)]\n",
    "        A[str(j)] = sigmoid(Z[str(j)])\n",
    "        assert(A[str(j)].shape == (layers_size[j], m))\n",
    "    \n",
    "    cost = (-1/m)*np.sum((np.log(A[str(L)])*Y.T)+(np.log(1-A[str(L)])*(1-Y.T)))\n",
    "    \n",
    "    if i % 10000 == 0:\n",
    "        print(\"Cost after \"+str(i)+\" iterations is \"+str(cost))\n",
    "    \n",
    "    #Back Propagation\n",
    "    dZ = dict()\n",
    "    dW = dict()\n",
    "    db = dict()\n",
    "    \n",
    "    for j in reversed(range(1, L+1)):\n",
    "        if j == L:\n",
    "            dZ[str(j)] = A[str(j)]-Y.T\n",
    "        else:\n",
    "            dZ[str(j)] = np.dot(W[str(j+1)].T, dZ[str(j+1)])*sigmoid_derivative(Z[str(j)])\n",
    "        \n",
    "        dW[str(j)] = (1/m)*np.dot(dZ[str(j)], A[str(j-1)].T)\n",
    "        db[str(j)] = (1/m)*np.sum(dZ[str(j)], axis=1, keepdims=True)\n",
    "        \n",
    "        assert(dW[str(j)].shape == W[str(j)].shape)\n",
    "        \n",
    "        W[str(j)] = W[str(j)] - learning_rate*dW[str(j)]\n",
    "        b[str(j)] = b[str(j)] - learning_rate*db[str(j)]\n",
    "    \n",
    "print(A[str(L)])\n",
    "    "
   ]
  },
  {
   "cell_type": "code",
   "execution_count": 94,
   "metadata": {
    "collapsed": false
   },
   "outputs": [
    {
     "name": "stdout",
     "output_type": "stream",
     "text": [
      "[[ 0.81423284  0.78181958  0.86850498  0.86025294]]\n",
      "1.00957392485\n",
      "[[ 0.00081051  0.66620389  0.66620411  0.6668029 ]]\n",
      "0.478037653436\n",
      "[[  3.82580146e-04   6.66445350e-01   6.66445409e-01   6.66729474e-01]]\n",
      "0.477694392667\n",
      "[[  2.48545827e-04   6.66522121e-01   6.66522149e-01   6.66706241e-01]]\n",
      "0.477585863188\n",
      "[[  1.83413731e-04   6.66559689e-01   6.66559706e-01   6.66695060e-01]]\n",
      "0.477533013088\n",
      "[[  1.45010995e-04   6.66581932e-01   6.66581944e-01   6.66688562e-01]]\n",
      "0.477501853922\n"
     ]
    },
    {
     "ename": "KeyboardInterrupt",
     "evalue": "",
     "output_type": "error",
     "traceback": [
      "\u001b[1;31m---------------------------------------------------------------------------\u001b[0m",
      "\u001b[1;31mKeyboardInterrupt\u001b[0m                         Traceback (most recent call last)",
      "\u001b[1;32m<ipython-input-94-c445b3154f31>\u001b[0m in \u001b[0;36m<module>\u001b[1;34m()\u001b[0m\n\u001b[0;32m     27\u001b[0m     \u001b[1;31m# Backward Propagation\u001b[0m\u001b[1;33m\u001b[0m\u001b[1;33m\u001b[0m\u001b[0m\n\u001b[0;32m     28\u001b[0m     \u001b[0mdz2\u001b[0m \u001b[1;33m=\u001b[0m \u001b[0ma2\u001b[0m\u001b[1;33m-\u001b[0m\u001b[0my\u001b[0m\u001b[1;33m\u001b[0m\u001b[0m\n\u001b[1;32m---> 29\u001b[1;33m     \u001b[0mdw2\u001b[0m \u001b[1;33m=\u001b[0m \u001b[1;33m(\u001b[0m\u001b[1;36m1\u001b[0m\u001b[1;33m/\u001b[0m\u001b[0mm\u001b[0m\u001b[1;33m)\u001b[0m\u001b[1;33m*\u001b[0m\u001b[1;33m(\u001b[0m\u001b[0mnp\u001b[0m\u001b[1;33m.\u001b[0m\u001b[0mdot\u001b[0m\u001b[1;33m(\u001b[0m\u001b[0mdz2\u001b[0m\u001b[1;33m,\u001b[0m \u001b[0ma1\u001b[0m\u001b[1;33m.\u001b[0m\u001b[0mT\u001b[0m\u001b[1;33m)\u001b[0m\u001b[1;33m)\u001b[0m\u001b[1;33m\u001b[0m\u001b[0m\n\u001b[0m\u001b[0;32m     30\u001b[0m     \u001b[0mdb2\u001b[0m \u001b[1;33m=\u001b[0m \u001b[1;33m(\u001b[0m\u001b[1;36m1\u001b[0m\u001b[1;33m/\u001b[0m\u001b[0mm\u001b[0m\u001b[1;33m)\u001b[0m\u001b[1;33m*\u001b[0m\u001b[0mnp\u001b[0m\u001b[1;33m.\u001b[0m\u001b[0msum\u001b[0m\u001b[1;33m(\u001b[0m\u001b[0mdz2\u001b[0m\u001b[1;33m,\u001b[0m \u001b[0maxis\u001b[0m\u001b[1;33m=\u001b[0m\u001b[1;36m1\u001b[0m\u001b[1;33m)\u001b[0m\u001b[1;33m\u001b[0m\u001b[0m\n\u001b[0;32m     31\u001b[0m     \u001b[0mgz1\u001b[0m \u001b[1;33m=\u001b[0m \u001b[1;36m1\u001b[0m\u001b[1;33m/\u001b[0m\u001b[1;33m(\u001b[0m\u001b[1;36m1\u001b[0m\u001b[1;33m+\u001b[0m\u001b[0mnp\u001b[0m\u001b[1;33m.\u001b[0m\u001b[0mexp\u001b[0m\u001b[1;33m(\u001b[0m\u001b[1;33m-\u001b[0m\u001b[0mz1\u001b[0m\u001b[1;33m)\u001b[0m\u001b[1;33m)\u001b[0m\u001b[1;33m\u001b[0m\u001b[0m\n",
      "\u001b[1;31mKeyboardInterrupt\u001b[0m: "
     ]
    }
   ],
   "source": []
  },
  {
   "cell_type": "code",
   "execution_count": null,
   "metadata": {
    "collapsed": true
   },
   "outputs": [],
   "source": []
  }
 ],
 "metadata": {
  "kernelspec": {
   "display_name": "Python [Root]",
   "language": "python",
   "name": "Python [Root]"
  },
  "language_info": {
   "codemirror_mode": {
    "name": "ipython",
    "version": 3
   },
   "file_extension": ".py",
   "mimetype": "text/x-python",
   "name": "python",
   "nbconvert_exporter": "python",
   "pygments_lexer": "ipython3",
   "version": "3.5.1"
  }
 },
 "nbformat": 4,
 "nbformat_minor": 0
}
