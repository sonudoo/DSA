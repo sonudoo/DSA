{
  "nbformat": 4,
  "nbformat_minor": 0,
  "metadata": {
    "colab": {
      "name": "Fashion MNIST using CNN.ipynb",
      "provenance": [],
      "include_colab_link": true
    },
    "kernelspec": {
      "name": "python3",
      "display_name": "Python 3"
    }
  },
  "cells": [
    {
      "cell_type": "markdown",
      "metadata": {
        "id": "view-in-github",
        "colab_type": "text"
      },
      "source": [
        "<a href=\"https://colab.research.google.com/github/sonudoo/DSA/blob/master/Machine%20Learning/FashionMNISTUsingCNN.ipynb\" target=\"_parent\"><img src=\"https://colab.research.google.com/assets/colab-badge.svg\" alt=\"Open In Colab\"/></a>"
      ]
    },
    {
      "cell_type": "code",
      "metadata": {
        "id": "32wZK54canUp",
        "colab_type": "code",
        "outputId": "1c65b4b7-82d1-4fa1-8644-226fd0d4224a",
        "colab": {
          "base_uri": "https://localhost:8080/",
          "height": 34
        }
      },
      "source": [
        "import keras\n",
        "from keras.models import Sequential\n",
        "from keras.layers import Dense\n",
        "from keras.layers.convolutional import Conv2D\n",
        "from keras.layers.convolutional import MaxPooling2D\n",
        "from keras.layers import Flatten"
      ],
      "execution_count": 0,
      "outputs": [
        {
          "output_type": "stream",
          "text": [
            "Using TensorFlow backend.\n"
          ],
          "name": "stderr"
        }
      ]
    },
    {
      "cell_type": "code",
      "metadata": {
        "id": "nYk1xPCXa7Xr",
        "colab_type": "code",
        "outputId": "4e87b44c-9beb-4564-beb2-cf2dbeff09f4",
        "colab": {
          "base_uri": "https://localhost:8080/",
          "height": 54
        }
      },
      "source": [
        "from google.colab import drive\n",
        "drive.mount('/content/drive')"
      ],
      "execution_count": 0,
      "outputs": [
        {
          "output_type": "stream",
          "text": [
            "Drive already mounted at /content/drive; to attempt to forcibly remount, call drive.mount(\"/content/drive\", force_remount=True).\n"
          ],
          "name": "stdout"
        }
      ]
    },
    {
      "cell_type": "code",
      "metadata": {
        "id": "cSzXixHpbcXr",
        "colab_type": "code",
        "colab": {}
      },
      "source": [
        "import pandas as pd\n",
        "data = pd.read_csv('/content/drive/My Drive/Colab Notebooks/fashion-mnist_train.csv')"
      ],
      "execution_count": 0,
      "outputs": []
    },
    {
      "cell_type": "code",
      "metadata": {
        "id": "LQAbVmSbb5xJ",
        "colab_type": "code",
        "colab": {}
      },
      "source": [
        "data = data.values"
      ],
      "execution_count": 0,
      "outputs": []
    },
    {
      "cell_type": "code",
      "metadata": {
        "id": "G1BfwWxBb_jV",
        "colab_type": "code",
        "colab": {}
      },
      "source": [
        "X = data[:,1:]\n",
        "Y = data[:,0]"
      ],
      "execution_count": 0,
      "outputs": []
    },
    {
      "cell_type": "code",
      "metadata": {
        "id": "5HEyNJbzcQTD",
        "colab_type": "code",
        "colab": {}
      },
      "source": [
        "m = X.shape[0]\n",
        "Y = Y.reshape((1, m))"
      ],
      "execution_count": 0,
      "outputs": []
    },
    {
      "cell_type": "code",
      "metadata": {
        "id": "_Yt979nwdWa6",
        "colab_type": "code",
        "colab": {}
      },
      "source": [
        "X = X.reshape((m, 28, 28 ,1))"
      ],
      "execution_count": 0,
      "outputs": []
    },
    {
      "cell_type": "code",
      "metadata": {
        "id": "fPjMThsfdikM",
        "colab_type": "code",
        "outputId": "50961fa1-c871-4b98-8c4b-889cc9a04cf4",
        "colab": {
          "base_uri": "https://localhost:8080/",
          "height": 364
        }
      },
      "source": [
        "import matplotlib.pyplot as plt\n",
        "plt.imshow(X[0].reshape(28,28), cmap='gray')\n"
      ],
      "execution_count": 0,
      "outputs": [
        {
          "output_type": "execute_result",
          "data": {
            "text/plain": [
              "<matplotlib.image.AxesImage at 0x7fda33be9b00>"
            ]
          },
          "metadata": {
            "tags": []
          },
          "execution_count": 9
        },
        {
          "output_type": "display_data",
          "data": {
            "image/png": "[encoded data removed]",
            "text/plain": [
              "<matplotlib.figure.Figure at 0x7fda3409dc18>"
            ]
          },
          "metadata": {
            "tags": []
          }
        }
      ]
    },
    {
      "cell_type": "code",
      "metadata": {
        "id": "exVG_56HgnGC",
        "colab_type": "code",
        "colab": {}
      },
      "source": [
        "import numpy as np\n",
        "Y = np.eye(10)[Y][0]"
      ],
      "execution_count": 0,
      "outputs": []
    },
    {
      "cell_type": "code",
      "metadata": {
        "id": "Jl6XWpBycac8",
        "colab_type": "code",
        "colab": {}
      },
      "source": [
        "classifier = Sequential()\n",
        "classifier.add(Conv2D(64, (2, 2), input_shape=(28, 28, 1), padding='same', activation='relu'))\n",
        "classifier.add(MaxPooling2D(pool_size = (2, 2)))\n",
        "classifier.add(Conv2D(32, (2, 2), activation='relu'))\n",
        "classifier.add(MaxPooling2D(pool_size = (2, 2)))\n",
        "classifier.add(Flatten())"
      ],
      "execution_count": 0,
      "outputs": []
    },
    {
      "cell_type": "code",
      "metadata": {
        "id": "RAXBZWkicbVh",
        "colab_type": "code",
        "colab": {}
      },
      "source": [
        "classifier.add(Dense(units=256, kernel_initializer='uniform', activation='relu'))\n",
        "classifier.add(Dense(units=10, kernel_initializer='uniform', activation='softmax'))"
      ],
      "execution_count": 0,
      "outputs": []
    },
    {
      "cell_type": "code",
      "metadata": {
        "id": "N7_qzP3bf0fD",
        "colab_type": "code",
        "colab": {}
      },
      "source": [
        "classifier.compile(optimizer='adam', loss='binary_crossentropy')"
      ],
      "execution_count": 0,
      "outputs": []
    },
    {
      "cell_type": "code",
      "metadata": {
        "id": "xfAU7GO3gAHW",
        "colab_type": "code",
        "outputId": "ac0ab64a-1720-4ea7-81b1-eaa33c758d29",
        "colab": {
          "base_uri": "https://localhost:8080/",
          "height": 374
        }
      },
      "source": [
        "classifier.fit(X/255, Y, batch_size=64, epochs=10)"
      ],
      "execution_count": 0,
      "outputs": [
        {
          "output_type": "stream",
          "text": [
            "Epoch 1/10\n",
            "60000/60000 [==============================] - 78s 1ms/step - loss: 0.0831\n",
            "Epoch 2/10\n",
            "60000/60000 [==============================] - 78s 1ms/step - loss: 0.0592\n",
            "Epoch 3/10\n",
            "60000/60000 [==============================] - 79s 1ms/step - loss: 0.0512\n",
            "Epoch 4/10\n",
            "60000/60000 [==============================] - 81s 1ms/step - loss: 0.0464\n",
            "Epoch 5/10\n",
            "60000/60000 [==============================] - 80s 1ms/step - loss: 0.0420\n",
            "Epoch 6/10\n",
            "60000/60000 [==============================] - 80s 1ms/step - loss: 0.0383\n",
            "Epoch 7/10\n",
            "60000/60000 [==============================] - 80s 1ms/step - loss: 0.0350\n",
            "Epoch 8/10\n",
            "60000/60000 [==============================] - 80s 1ms/step - loss: 0.0321\n",
            "Epoch 9/10\n",
            "60000/60000 [==============================] - 78s 1ms/step - loss: 0.0289\n",
            "Epoch 10/10\n",
            "60000/60000 [==============================] - 77s 1ms/step - loss: 0.0264\n"
          ],
          "name": "stdout"
        },
        {
          "output_type": "execute_result",
          "data": {
            "text/plain": [
              "<keras.callbacks.History at 0x7fda2cabe748>"
            ]
          },
          "metadata": {
            "tags": []
          },
          "execution_count": 35
        }
      ]
    },
    {
      "cell_type": "code",
      "metadata": {
        "id": "Qfpk6YesgGg-",
        "colab_type": "code",
        "colab": {}
      },
      "source": [
        "Y_hat = classifier.predict(X)"
      ],
      "execution_count": 0,
      "outputs": []
    },
    {
      "cell_type": "code",
      "metadata": {
        "id": "qERMa6YfkM9s",
        "colab_type": "code",
        "outputId": "c662fdb8-1e61-4f6f-d1e3-00110e4365a9",
        "colab": {
          "base_uri": "https://localhost:8080/",
          "height": 34
        }
      },
      "source": [
        "print('Training Accuracy: '+str(np.sum(np.argmax(Y, axis=1) == np.argmax(Y_hat, axis=1))/m))"
      ],
      "execution_count": 0,
      "outputs": [
        {
          "output_type": "stream",
          "text": [
            "Training Accuracy: 0.8781166666666667\n"
          ],
          "name": "stdout"
        }
      ]
    },
    {
      "cell_type": "code",
      "metadata": {
        "id": "LZTMEtJbkoGK",
        "colab_type": "code",
        "outputId": "0769155d-54af-4687-80d5-976ec11973f7",
        "colab": {
          "base_uri": "https://localhost:8080/",
          "height": 34
        }
      },
      "source": [
        "data = pd.read_csv('/content/drive/My Drive/Colab Notebooks/fashion-mnist_test.csv')\n",
        "data = data.values\n",
        "X = data[:,1:]\n",
        "Y = data[:,0]\n",
        "m = X.shape[0]\n",
        "Y = Y.reshape((1, m))\n",
        "X = X.reshape((m, 28, 28 ,1))\n",
        "Y = np.eye(10)[Y][0]\n",
        "Y_hat = classifier.predict(X)\n",
        "print('Test Accuracy: '+str(np.sum(np.argmax(Y, axis=1) == np.argmax(Y_hat, axis=1))/m))"
      ],
      "execution_count": 0,
      "outputs": [
        {
          "output_type": "stream",
          "text": [
            "Test Accuracy: 0.8587\n"
          ],
          "name": "stdout"
        }
      ]
    },
    {
      "cell_type": "code",
      "metadata": {
        "id": "pihFM-9LzrnU",
        "colab_type": "code",
        "colab": {}
      },
      "source": [
        ""
      ],
      "execution_count": 0,
      "outputs": []
    }
  ]
}