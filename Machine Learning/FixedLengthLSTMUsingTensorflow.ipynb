{
  "nbformat": 4,
  "nbformat_minor": 0,
  "metadata": {
    "kernelspec": {
      "display_name": "Python 3",
      "language": "python",
      "name": "python3"
    },
    "language_info": {
      "codemirror_mode": {
        "name": "ipython",
        "version": 3
      },
      "file_extension": ".py",
      "mimetype": "text/x-python",
      "name": "python",
      "nbconvert_exporter": "python",
      "pygments_lexer": "ipython3",
      "version": "3.7.3"
    },
    "colab": {
      "name": "FixedLengthLSTMUsingTensorflow.ipynb",
      "provenance": [],
      "collapsed_sections": [],
      "include_colab_link": true
    }
  },
  "cells": [
    {
      "cell_type": "markdown",
      "metadata": {
        "id": "view-in-github",
        "colab_type": "text"
      },
      "source": [
        "<a href=\"https://colab.research.google.com/github/sonudoo/DSA/blob/master/Machine%20Learning/FixedLengthLSTMUsingTensorflow.ipynb\" target=\"_parent\"><img src=\"https://colab.research.google.com/assets/colab-badge.svg\" alt=\"Open In Colab\"/></a>"
      ]
    },
    {
      "cell_type": "code",
      "metadata": {
        "id": "wt06wIGkWZ5l",
        "colab_type": "code",
        "colab": {}
      },
      "source": [
        "import tensorflow as tf\n",
        "import numpy as np\n",
        "from matplotlib import pyplot as plt"
      ],
      "execution_count": 0,
      "outputs": []
    },
    {
      "cell_type": "code",
      "metadata": {
        "id": "2Zl0avtCWZ5p",
        "colab_type": "code",
        "colab": {}
      },
      "source": [
        "# We will be calculating the average of last 4 numbers in the series data using LSTM network\n",
        "\n",
        "n_states = 10 # Number of states in the network. Let the LSTM see last 10 data. Also length of each training example.\n",
        "n_input = 1 # Number of units in input layer\n",
        "n_hidden = 5 # Number of units in hidden layer\n",
        "n_output = 1 # Number of units in output layer\n",
        "m = 1000 # Number of data points. Also, total length of the series\n",
        "X_raw = np.random.uniform(low=0.0, high=1.0, size=m) # Generate 'm' random samples\n",
        "time = np.arange(m)\n",
        "batch_size = 10 # We will feed 'batch_size' training example (i.e 'batch_size' series of X and corresponding Y) at a time in each epoch\n",
        "num_batches = (m + batch_size - 1) // batch_size // n_states"
      ],
      "execution_count": 0,
      "outputs": []
    },
    {
      "cell_type": "code",
      "metadata": {
        "id": "zr8JEfy_WZ5r",
        "colab_type": "code",
        "outputId": "1c0068c8-b09a-4619-d423-a9a2f20f5f96",
        "colab": {
          "base_uri": "https://localhost:8080/",
          "height": 160
        }
      },
      "source": [
        "plt.figure(figsize=(15, 2))\n",
        "plt.scatter(time, X_raw, alpha=1, color='r', s=5)\n",
        "plt.show()"
      ],
      "execution_count": 0,
      "outputs": [
        {
          "output_type": "display_data",
          "data": {
            "image/png": "[encoded data removed]",
            "text/plain": [
              "<Figure size 1080x144 with 1 Axes>"
            ]
          },
          "metadata": {
            "tags": []
          }
        }
      ]
    },
    {
      "cell_type": "code",
      "metadata": {
        "id": "Hk_GVzg8WZ5u",
        "colab_type": "code",
        "colab": {}
      },
      "source": [
        "X_train = []\n",
        "Y_train = []\n",
        "\n",
        "# We divide the raw data points to m//n_states training example. Each example is a series of X and corresponding Y\n",
        "# Each example has a length of n_states (fixed) \n",
        "# The output of each example is again a series. First 3 element of the series is zero and the rest are mean of last 4 elements.\n",
        "\n",
        "for i in range(m // n_states):\n",
        "    X_train.append(X_raw[i * n_states: (i + 1) * n_states])\n",
        "    Y_train.append(np.array([0.0 for j in range(3)] + [np.mean(X_train[i][j-3: j+1]) for j in range(3, n_states)]))\n",
        "\n",
        "X_train = np.array(X_train)\n",
        "Y_train = np.array(Y_train)"
      ],
      "execution_count": 0,
      "outputs": []
    },
    {
      "cell_type": "code",
      "metadata": {
        "id": "gs0zLqWFWZ5v",
        "colab_type": "code",
        "colab": {}
      },
      "source": [
        "# None represents number of training example in one shot (batch size), length of RNN state\n",
        "# Since number of features is 1, we skip the third dimension, else it would have been added\n",
        "X = tf.placeholder(dtype=tf.float32, shape=(batch_size, n_states))\n",
        "Y = tf.placeholder(dtype=tf.float32, shape=(batch_size, n_states))\n",
        "\n",
        "# Hidden layer\n",
        "\n",
        "W_c = tf.Variable(tf.random_normal([n_hidden + n_input, n_hidden]))\n",
        "W_u = tf.Variable(tf.random_normal([n_hidden + n_input, n_hidden]))\n",
        "W_f = tf.Variable(tf.random_normal([n_hidden + n_input, n_hidden]))\n",
        "W_o = tf.Variable(tf.random_normal([n_hidden + n_input, n_hidden]))\n",
        "\n",
        "b_c = tf.Variable(tf.random_normal([1, n_hidden]))\n",
        "b_u = tf.Variable(tf.random_normal([1, n_hidden]))\n",
        "b_f = tf.Variable(tf.random_normal([1, n_hidden]))\n",
        "b_o = tf.Variable(tf.random_normal([1, n_hidden]))\n",
        "\n",
        "# Output layer\n",
        "\n",
        "W_y = tf.Variable(tf.random_normal([n_hidden, n_output]))\n",
        "b_y = tf.Variable(tf.random_normal([1, n_output]))\n",
        "\n",
        "# We have to maintain a separate state for each example in the batch.\n",
        "\n",
        "a = tf.zeros(dtype=tf.float32, shape=[batch_size, n_hidden]) \n",
        "c = tf.zeros(dtype=tf.float32, shape=[batch_size, n_hidden])"
      ],
      "execution_count": 0,
      "outputs": []
    },
    {
      "cell_type": "code",
      "metadata": {
        "id": "ZNhydNNuWZ5x",
        "colab_type": "code",
        "colab": {}
      },
      "source": [
        "all_states_input = tf.unstack(X, axis=1) # Returns a list of tensors sliced column wise from X\n",
        "all_states_label = tf.unstack(Y, axis=1) # Returns a list of tensors sliced column wise from X\n",
        "total_loss = tf.constant(0.0)\n",
        "Y_output = None\n",
        "\n",
        "for ith_state in range(n_states):\n",
        "    \n",
        "    # We extract the ith state input and label\n",
        "    X_state_input = tf.reshape(all_states_input[ith_state], shape=[batch_size, n_input])\n",
        "    Y_state_label = tf.reshape(all_states_label[ith_state], shape=[batch_size, n_input])\n",
        "    \n",
        "    # Stack it with the previous state\n",
        "    a_prev_x_stacked = tf.concat([a, X_state_input], 1)\n",
        "    \n",
        "    # Forward prop\n",
        "    _c = tf.nn.tanh(tf.math.add(tf.matmul(a_prev_x_stacked, W_c), b_c))\n",
        "    g_u = tf.nn.sigmoid(tf.math.add(tf.matmul(a_prev_x_stacked, W_u), b_u))\n",
        "    g_f = tf.nn.sigmoid(tf.math.add(tf.matmul(a_prev_x_stacked, W_f), b_f))\n",
        "    g_o = tf.nn.sigmoid(tf.math.add(tf.matmul(a_prev_x_stacked, W_o), b_o))\n",
        "    c = tf.math.add(tf.math.multiply(g_u, _c), tf.math.multiply(g_f, c))\n",
        "    a = tf.math.multiply(g_o, tf.nn.tanh(c))\n",
        "    Y_state_output = tf.nn.sigmoid(tf.math.add(tf.matmul(a, W_y), b_y))\n",
        "    if ith_state != 0:\n",
        "        Y_output = tf.concat([Y_output, Y_state_output], axis=1)\n",
        "    else:\n",
        "        Y_output = Y_state_output\n",
        "    \n",
        "    # Calculate the loss for this state\n",
        "    loss = tf.reduce_mean(tf.abs(tf.subtract(Y_state_label, Y_state_output)))\n",
        "    \n",
        "    # Add it to total loss. Total loss is the loss on all the states\n",
        "    total_loss = tf.add(total_loss, loss)\n",
        "\n",
        "optimizer = tf.train.AdamOptimizer(0.01).minimize(total_loss)\n"
      ],
      "execution_count": 0,
      "outputs": []
    },
    {
      "cell_type": "code",
      "metadata": {
        "id": "Rd5aoG1iWZ5z",
        "colab_type": "code",
        "colab": {}
      },
      "source": [
        "init = tf.global_variables_initializer()\n",
        "sess = tf.Session()\n",
        "sess.run(init)"
      ],
      "execution_count": 0,
      "outputs": []
    },
    {
      "cell_type": "code",
      "metadata": {
        "id": "d9lLmqkjWZ50",
        "colab_type": "code",
        "outputId": "3c9b9ac4-b61b-4fd6-9bf0-c9e45bf76b3a",
        "colab": {
          "base_uri": "https://localhost:8080/",
          "height": 191
        }
      },
      "source": [
        "for epoch in range(100):\n",
        "    loss_across_batches = []\n",
        "    for i in range(num_batches):\n",
        "        X_train_batch = np.array(X_train[i * batch_size: (i + 1) * batch_size])\n",
        "        Y_train_batch = np.array(Y_train[i * batch_size: (i + 1) * batch_size])\n",
        "        loss = sess.run([optimizer, total_loss], feed_dict={X: X_train_batch, Y: Y_train_batch})[1]\n",
        "        loss_across_batches.append(loss)\n",
        "    if epoch % 10 == 0:\n",
        "        print(np.mean(np.array(loss_across_batches)))"
      ],
      "execution_count": 0,
      "outputs": [
        {
          "output_type": "stream",
          "text": [
            "2.8062482\n",
            "0.7778994\n",
            "0.37010157\n",
            "0.26962858\n",
            "0.23940082\n",
            "0.21925664\n",
            "0.2100728\n",
            "0.2039465\n",
            "0.19378452\n",
            "0.18913902\n"
          ],
          "name": "stdout"
        }
      ]
    },
    {
      "cell_type": "code",
      "metadata": {
        "id": "Tgb0BqrbWZ52",
        "colab_type": "code",
        "colab": {}
      },
      "source": [
        "X_test_raw = np.random.uniform(low=0.0, high=1.0, size=batch_size * n_states)"
      ],
      "execution_count": 0,
      "outputs": []
    },
    {
      "cell_type": "code",
      "metadata": {
        "id": "dLy-eWyQWZ54",
        "colab_type": "code",
        "colab": {}
      },
      "source": [
        "X_test = []\n",
        "Y_test = []\n",
        "\n",
        "for i in range(batch_size):\n",
        "    X_test.append(X_test_raw[i * n_states: (i + 1) * n_states])\n",
        "    Y_test.append(np.array([0.0 for j in range(3)] + [np.mean(X_test[i][j-3: j+1]) for j in range(3, n_states)]))\n",
        "\n",
        "X_test = np.array(X_test)\n",
        "Y_test= np.array(Y_test)"
      ],
      "execution_count": 0,
      "outputs": []
    },
    {
      "cell_type": "code",
      "metadata": {
        "id": "89azMFqsWZ55",
        "colab_type": "code",
        "colab": {}
      },
      "source": [
        "Y_pred = sess.run(Y_output, feed_dict={X: X_test})"
      ],
      "execution_count": 0,
      "outputs": []
    },
    {
      "cell_type": "code",
      "metadata": {
        "id": "XiGTEfGkWZ57",
        "colab_type": "code",
        "outputId": "e4632505-3f81-43de-8725-d2b53e4118ef",
        "colab": {
          "base_uri": "https://localhost:8080/",
          "height": 139
        }
      },
      "source": [
        "print(X_test[0])\n",
        "print(Y_test[0])\n",
        "print(Y_pred[0])\n",
        "print(np.mean(np.sum(np.abs(Y_test - Y_pred), axis=1)))"
      ],
      "execution_count": 0,
      "outputs": [
        {
          "output_type": "stream",
          "text": [
            "[0.472836   0.33658409 0.73802215 0.32932288 0.86545649 0.05890311\n",
            " 0.12850533 0.01925731 0.22013189 0.91082657]\n",
            "[0.         0.         0.         0.46919128 0.5673464  0.49792616\n",
            " 0.34554695 0.26803056 0.10669941 0.31968028]\n",
            "[1.5277267e-03 1.4284253e-04 4.5517981e-03 4.9825555e-01 6.0322237e-01\n",
            " 4.7484466e-01 3.5684544e-01 2.3547712e-01 1.9089597e-01 3.2835948e-01]\n",
            "0.19719259505735667\n"
          ],
          "name": "stdout"
        }
      ]
    },
    {
      "cell_type": "code",
      "metadata": {
        "id": "dlNuwJ_EWZ59",
        "colab_type": "code",
        "colab": {}
      },
      "source": [
        "# Note that we have output very close to the actual output. \n",
        "# The first three numbers are close to zero and starting from fourth number the output is close to mean value"
      ],
      "execution_count": 0,
      "outputs": []
    },
    {
      "cell_type": "code",
      "metadata": {
        "id": "3DhJAtGXWZ5_",
        "colab_type": "code",
        "colab": {}
      },
      "source": [
        ""
      ],
      "execution_count": 0,
      "outputs": []
    }
  ]
}