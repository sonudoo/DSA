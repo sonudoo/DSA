{
 "cells": [
  {
   "cell_type": "code",
   "execution_count": 9,
   "metadata": {},
   "outputs": [],
   "source": [
    "import numpy as np"
   ]
  },
  {
   "cell_type": "code",
   "execution_count": 18,
   "metadata": {},
   "outputs": [],
   "source": [
    "from matplotlib import pyplot as plt"
   ]
  },
  {
   "cell_type": "code",
   "execution_count": 10,
   "metadata": {},
   "outputs": [],
   "source": [
    "import pandas as pd"
   ]
  },
  {
   "cell_type": "raw",
   "metadata": {},
   "source": []
  },
  {
   "cell_type": "code",
   "execution_count": 11,
   "metadata": {},
   "outputs": [],
   "source": [
    "def sigmoid(x):\n",
    "    return 1/(1+np.exp(-x))\n",
    "\n",
    "def sigmoid_derivative(x):\n",
    "    sx = sigmoid(x)\n",
    "    return sx*(1-sx)"
   ]
  },
  {
   "cell_type": "code",
   "execution_count": 33,
   "metadata": {},
   "outputs": [
    {
     "name": "stdout",
     "output_type": "stream",
     "text": [
      "(784, 42000)\n",
      "[[0. 1. 0. ... 0. 0. 0.]\n",
      " [1. 0. 0. ... 0. 0. 0.]\n",
      " [0. 1. 0. ... 0. 0. 0.]\n",
      " ...\n",
      " [0. 0. 0. ... 1. 0. 0.]\n",
      " [0. 0. 0. ... 0. 0. 0.]\n",
      " [0. 0. 0. ... 0. 0. 1.]]\n"
     ]
    },
    {
     "data": {
      "image/png": "[encoded data removed]",
      "text/plain": [
       "<Figure size 432x288 with 1 Axes>"
      ]
     },
     "metadata": {},
     "output_type": "display_data"
    },
    {
     "name": "stdout",
     "output_type": "stream",
     "text": [
      "[0. 0. 0. 0. 0. 0. 0. 0. 1. 0.]\n"
     ]
    }
   ],
   "source": [
    "data = pd.read_csv(\"C:\\\\Users\\\\Sushant\\\\Documents\\\\DeepL\\\\train.csv\")\n",
    "data = data.values.T\n",
    "X = data[1:]/255\n",
    "m = X.shape[1]\n",
    "Y = np.zeros((m,10))\n",
    "for i in range(m):\n",
    "    Y[i][data[0][i]] = 1\n",
    "print(X.shape)\n",
    "print(Y)\n",
    "sample = X[:,10].reshape((28,28))\n",
    "plt.imshow(sample, cmap=plt.cm.gray_r, interpolation='nearest')\n",
    "plt.show()\n",
    "print(Y[10])"
   ]
  },
  {
   "cell_type": "code",
   "execution_count": 42,
   "metadata": {},
   "outputs": [
    {
     "name": "stdout",
     "output_type": "stream",
     "text": [
      "{'1': array([[ 1.62434536e-02, -6.11756414e-03, -5.28171752e-03, ...,\n",
      "        -1.10657307e-02, -3.59224096e-03,  5.05381903e-03],\n",
      "       [ 1.21794090e-02, -1.94068096e-02, -8.06178212e-03, ...,\n",
      "         2.07229946e-03, -1.43403073e-02,  6.26906306e-03],\n",
      "       [ 2.99825202e-03, -1.85664142e-02, -2.15104316e-02, ...,\n",
      "        -1.95419182e-02,  1.86223746e-03, -3.82994307e-05],\n",
      "       ...,\n",
      "       [-5.14355208e-03, -7.99751514e-03, -8.18132121e-03, ...,\n",
      "         8.33959618e-03, -4.22625640e-04,  1.48629738e-02],\n",
      "       [ 3.26005886e-03,  1.30370710e-02,  7.26861507e-03, ...,\n",
      "         3.94682088e-03,  1.55053524e-03, -1.04178960e-02],\n",
      "       [-1.10957011e-02, -3.86176998e-03,  8.19329273e-03, ...,\n",
      "         1.06964762e-02, -9.35939292e-03, -3.65112120e-03]]), '2': array([[ 7.50577283e-03, -1.63018204e-03, -1.02798218e-03,\n",
      "        -4.40975238e-03, -2.79072638e-03, -3.81448669e-03,\n",
      "        -2.40762391e-03, -1.26910206e-02,  1.54084518e-02,\n",
      "         8.20218484e-04, -1.46698104e-02,  6.12034084e-03,\n",
      "        -6.85667202e-03, -8.67448023e-03, -3.96315644e-03],\n",
      "       [-6.45740115e-03,  6.59712428e-03,  9.33207946e-03,\n",
      "         6.22020862e-03,  1.35488314e-02, -1.04936542e-03,\n",
      "        -2.58267748e-02, -1.16567506e-02, -4.20611525e-03,\n",
      "         7.52475638e-04, -9.89762641e-04, -4.24664729e-03,\n",
      "        -1.43856618e-03,  9.94843057e-03,  9.12586688e-03],\n",
      "       [ 5.24002643e-03, -8.37411721e-03,  7.75458685e-03,\n",
      "         6.78304386e-03,  1.16628123e-02,  1.26290661e-02,\n",
      "         9.71684695e-03,  7.90150391e-04, -9.04705948e-04,\n",
      "        -1.42034892e-02,  7.53573149e-04, -1.49901602e-02,\n",
      "         7.22587448e-03,  3.95831617e-03, -6.80784283e-03],\n",
      "       [ 2.97581521e-03,  6.20457472e-03,  1.03142694e-03,\n",
      "         6.19853083e-03, -6.09970681e-03,  3.72328508e-04,\n",
      "         2.00551650e-02,  2.34136805e-03,  1.56320890e-02,\n",
      "         2.35121558e-02, -9.20910910e-03,  1.68739500e-02,\n",
      "        -1.75940653e-02,  1.39787007e-02, -7.09621743e-03],\n",
      "       [-7.93931114e-03,  2.23022611e-02,  1.13296384e-03,\n",
      "        -1.35210852e-03, -1.79133292e-02, -1.13197878e-02,\n",
      "         3.32686930e-04,  7.28226530e-03,  1.77490612e-02,\n",
      "        -1.40720118e-02,  1.31452006e-02, -1.18939623e-02,\n",
      "         6.51403200e-03, -1.58865709e-02, -1.23777094e-02],\n",
      "       [-4.91694640e-03,  1.48330974e-02, -8.92868636e-03,\n",
      "        -5.79465967e-03, -4.23750666e-03, -8.17219745e-03,\n",
      "         6.62727589e-04,  4.03121059e-04,  2.91259119e-04,\n",
      "         3.38671644e-03, -3.55151749e-03,  1.04837527e-02,\n",
      "        -5.18086458e-03,  1.91491231e-02, -7.71980338e-03],\n",
      "       [ 2.25719403e-03, -9.27628170e-03,  1.28862015e-03,\n",
      "        -1.05560462e-05,  5.33507568e-03,  4.30989289e-04,\n",
      "         2.49489658e-03, -2.49745747e-02, -2.04207149e-04,\n",
      "        -3.90939921e-03,  8.71264471e-03, -5.43046161e-03,\n",
      "         3.17852812e-03,  7.76642548e-03,  9.09741392e-03],\n",
      "       [-1.72232885e-03, -2.20932720e-03, -2.14756846e-03,\n",
      "        -6.57056897e-03,  1.88576799e-02, -2.60698079e-02,\n",
      "         6.20010023e-03, -2.69500262e-03,  1.27380728e-02,\n",
      "         6.82637987e-03,  2.71278584e-03, -5.86629849e-04,\n",
      "         3.59918559e-03,  1.97850768e-02, -1.98180436e-02],\n",
      "       [-5.51978524e-03, -7.65183099e-03,  2.93494989e-03,\n",
      "         1.64633870e-03, -9.44652416e-04,  5.59186631e-03,\n",
      "        -5.17345126e-03,  1.29284043e-02, -8.38202017e-03,\n",
      "         1.28051506e-02, -5.45989230e-03,  8.52857660e-03,\n",
      "         6.83522927e-04,  5.34016765e-04, -9.29342351e-03],\n",
      "       [ 1.38592029e-02, -2.60521903e-03,  6.60987820e-03,\n",
      "         1.63526589e-02,  4.72958300e-03,  1.61850589e-02,\n",
      "         1.81780833e-02,  2.02050034e-02, -1.57996629e-03,\n",
      "         4.36075340e-03, -1.21783474e-02, -2.62897423e-04,\n",
      "         2.66347417e-04, -3.52819499e-03,  8.15567918e-03]])}\n",
      "{'1': array([[-0.00140543],\n",
      "       [ 0.00589182],\n",
      "       [-0.00897937],\n",
      "       [ 0.0141099 ],\n",
      "       [ 0.007813  ],\n",
      "       [-0.00965613],\n",
      "       [ 0.00886486],\n",
      "       [ 0.00532774],\n",
      "       [-0.00665972],\n",
      "       [-0.00712659],\n",
      "       [-0.01011145],\n",
      "       [ 0.0041346 ],\n",
      "       [ 0.0186182 ],\n",
      "       [-0.00742615],\n",
      "       [ 0.00604429]]), '2': array([[-0.00899001],\n",
      "       [-0.00031497],\n",
      "       [ 0.01870964],\n",
      "       [ 0.00522057],\n",
      "       [-0.00253827],\n",
      "       [ 0.00991634],\n",
      "       [ 0.00191836],\n",
      "       [ 0.00722953],\n",
      "       [-0.00209279],\n",
      "       [-0.00399777]])}\n"
     ]
    }
   ],
   "source": [
    "layers_size = [784, 15, 10]\n",
    "L = len(layers_size)-1\n",
    "W = dict()\n",
    "b = dict()\n",
    "np.random.seed(1)\n",
    "for i in range(1, L+1):\n",
    "    W[str(i)] = np.random.randn(layers_size[i], layers_size[i-1])*0.01\n",
    "    b[str(i)] = np.random.randn(layers_size[i], 1)*0.01\n",
    "    assert(W[str(i)].shape == (layers_size[i], layers_size[i-1]))\n",
    "\n",
    "print(W)\n",
    "print(b)"
   ]
  },
  {
   "cell_type": "code",
   "execution_count": 43,
   "metadata": {},
   "outputs": [
    {
     "name": "stdout",
     "output_type": "stream",
     "text": [
      "42000\n"
     ]
    }
   ],
   "source": [
    "print(m)"
   ]
  },
  {
   "cell_type": "code",
   "execution_count": 54,
   "metadata": {},
   "outputs": [
    {
     "name": "stdout",
     "output_type": "stream",
     "text": [
      "Cost after 0 iterations is 0.6416174220696566\n",
      "Cost after 100 iterations is 0.6349240307343308\n",
      "Cost after 200 iterations is 0.6285703043255525\n",
      "Cost after 300 iterations is 0.6225276266033204\n",
      "Cost after 400 iterations is 0.6167704464422935\n",
      "Cost after 500 iterations is 0.6112758912468788\n",
      "Cost after 600 iterations is 0.606023435640631\n",
      "Cost after 700 iterations is 0.60099461743587\n",
      "Cost after 800 iterations is 0.5961727941389737\n",
      "Cost after 900 iterations is 0.5915429342307836\n",
      "Cost after 1000 iterations is 0.5870914382040184\n",
      "Cost after 1100 iterations is 0.5828059848846963\n",
      "Cost after 1200 iterations is 0.5786753989760887\n",
      "Cost after 1300 iterations is 0.5746895361165657\n",
      "Cost after 1400 iterations is 0.5708391821084619\n",
      "Cost after 1500 iterations is 0.5671159634052536\n",
      "Cost after 1600 iterations is 0.563512266456952\n",
      "Cost after 1700 iterations is 0.5600211640876068\n",
      "Cost after 1800 iterations is 0.5566363476608688\n",
      "Cost after 1900 iterations is 0.5533520643108789\n",
      "Cost after 2000 iterations is 0.5501630589155021\n",
      "Cost after 2100 iterations is 0.5470645207338077\n",
      "Cost after 2200 iterations is 0.5440520347231735\n",
      "Cost after 2300 iterations is 0.541121537528294\n",
      "Cost after 2400 iterations is 0.5382692780452044\n",
      "Cost after 2500 iterations is 0.535491782356549\n",
      "Cost after 2600 iterations is 0.532785822743827\n",
      "Cost after 2700 iterations is 0.5301483904249036\n",
      "Cost after 2800 iterations is 0.5275766716432824\n",
      "Cost after 2900 iterations is 0.5250680267438886\n",
      "Cost after 3000 iterations is 0.5226199718989639\n",
      "Cost after 3100 iterations is 0.5202301631870457\n",
      "Cost after 3200 iterations is 0.5178963827684581\n",
      "Cost after 3300 iterations is 0.515616526935231\n",
      "Cost after 3400 iterations is 0.5133885958380399\n",
      "Cost after 3500 iterations is 0.5112106847072911\n",
      "Cost after 3600 iterations is 0.5090809763924308\n",
      "Cost after 3700 iterations is 0.5069977350468706\n",
      "Cost after 3800 iterations is 0.5049593007895024\n",
      "Cost after 3900 iterations is 0.5029640851804087\n",
      "Cost after 4000 iterations is 0.5010105673592673\n",
      "Cost after 4100 iterations is 0.4990972907098954\n",
      "Cost after 4200 iterations is 0.49722285993222054\n",
      "Cost after 4300 iterations is 0.4953859384221922\n",
      "Cost after 4400 iterations is 0.49358524587919933\n",
      "Cost after 4500 iterations is 0.4918195560783223\n",
      "Cost after 4600 iterations is 0.49008769476040775\n",
      "Cost after 4700 iterations is 0.4883885376061592\n",
      "Cost after 4800 iterations is 0.48672100827118076\n",
      "Cost after 4900 iterations is 0.4850840764672694\n",
      "Cost after 5000 iterations is 0.48347675608160434\n",
      "Cost after 5100 iterations is 0.48189810333007527\n",
      "Cost after 5200 iterations is 0.480347214944195\n",
      "Cost after 5300 iterations is 0.47882322639312763\n",
      "Cost after 5400 iterations is 0.4773253101436126\n",
      "Cost after 5500 iterations is 0.47585267396115055\n",
      "Cost after 5600 iterations is 0.4744045592559705\n",
      "Cost after 5700 iterations is 0.4729802394770999\n",
      "Cost after 5800 iterations is 0.4715790185574771\n",
      "Cost after 5900 iterations is 0.47020022941252304\n",
      "Cost after 6000 iterations is 0.46884323249401877\n",
      "Cost after 6100 iterations is 0.4675074144005617\n",
      "Cost after 6200 iterations is 0.466192186545335\n",
      "Cost after 6300 iterations is 0.4648969838814193\n",
      "Cost after 6400 iterations is 0.463621263684484\n",
      "Cost after 6500 iterations is 0.46236450439232113\n",
      "Cost after 6600 iterations is 0.46112620450043906\n",
      "Cost after 6700 iterations is 0.45990588151270895\n",
      "Cost after 6800 iterations is 0.45870307094592494\n",
      "Cost after 6900 iterations is 0.4575173253870277\n",
      "Cost after 7000 iterations is 0.45634821360166894\n",
      "Cost after 7100 iterations is 0.4551953196927563\n",
      "Cost after 7200 iterations is 0.45405824230755953\n",
      "Cost after 7300 iterations is 0.4529365938919388\n",
      "Cost after 7400 iterations is 0.451829999990188\n",
      "Cost after 7500 iterations is 0.4507380985889415\n",
      "Cost after 7600 iterations is 0.4496605395035227\n",
      "Cost after 7700 iterations is 0.44859698380502433\n",
      "Cost after 7800 iterations is 0.4475471032863276\n",
      "Cost after 7900 iterations is 0.4465105799651753\n",
      "Cost after 8000 iterations is 0.4454871056223171\n",
      "Cost after 8100 iterations is 0.4444763813726688\n",
      "Cost after 8200 iterations is 0.4434781172673506\n",
      "Cost after 8300 iterations is 0.44249203192441755\n",
      "Cost after 8400 iterations is 0.44151785218606254\n",
      "Cost after 8500 iterations is 0.44055531280007765\n",
      "Cost after 8600 iterations is 0.4396041561233579\n",
      "Cost after 8700 iterations is 0.43866413184530856\n",
      "Cost after 8800 iterations is 0.4377349967290694\n",
      "Cost after 8900 iterations is 0.43681651436858593\n",
      "Cost after 9000 iterations is 0.4359084549596724\n",
      "Cost after 9100 iterations is 0.4350105950833579\n",
      "Cost after 9200 iterations is 0.43412271749996095\n",
      "Cost after 9300 iterations is 0.43324461095250505\n",
      "Cost after 9400 iterations is 0.4323760699782641\n",
      "Cost after 9500 iterations is 0.43151689472739324\n",
      "Cost after 9600 iterations is 0.4306668907877785\n",
      "Cost after 9700 iterations is 0.4298258690153978\n",
      "Cost after 9800 iterations is 0.4289936453696408\n",
      "Cost after 9900 iterations is 0.42817004075317044\n",
      "[[1.90218867e-06 9.96274209e-01 1.30769523e-07 ... 6.98376383e-03\n",
      "  2.37837754e-03 1.96156044e-04]\n",
      " [9.60161599e-01 2.98052623e-06 9.96353399e-01 ... 6.16405914e-05\n",
      "  3.92722649e-04 9.02278476e-04]\n",
      " [1.15781251e-02 2.37496708e-03 3.65450802e-03 ... 5.24668638e-05\n",
      "  4.00398925e-03 3.12187179e-03]\n",
      " ...\n",
      " [1.61063911e-04 5.87297239e-04 9.81175224e-04 ... 9.53055152e-01\n",
      "  1.28029084e-05 3.71422978e-02]\n",
      " [4.80673775e-02 4.53637309e-04 1.05748567e-03 ... 4.64079641e-04\n",
      "  2.48730491e-05 1.00728324e-01]\n",
      " [1.51571604e-04 3.37125594e-04 4.11326690e-04 ... 3.59593158e-02\n",
      "  3.77690010e-05 9.16561773e-01]]\n"
     ]
    }
   ],
   "source": [
    "Z = dict()\n",
    "A = dict()\n",
    "learning_rate = 0.1\n",
    "iterations = 50000\n",
    "for i in range(iterations):\n",
    "    \n",
    "    #Forward Propagation\n",
    "    A['0'] = X\n",
    "    for j in range(1,L+1):\n",
    "        Z[str(j)] = np.dot(W[str(j)], A[str(j-1)]) + b[str(j)]\n",
    "        A[str(j)] = sigmoid(Z[str(j)])\n",
    "        assert(A[str(j)].shape == (layers_size[j], m))\n",
    "    \n",
    "    \n",
    "    \n",
    "    cost = (-1/m)*np.sum((np.log(A[str(L)])*Y.T)+(np.log(1-A[str(L)])*(1-Y.T)))\n",
    "    if i % 100 == 0:\n",
    "        print(\"Cost after \"+str(i)+\" iterations is \"+str(cost))\n",
    "    \n",
    "    #Back Propagation\n",
    "    dZ = dict()\n",
    "    dW = dict()\n",
    "    db = dict()\n",
    "    \n",
    "    for j in reversed(range(1, L+1)):\n",
    "        if j == L:\n",
    "            dZ[str(j)] = A[str(j)]-Y.T\n",
    "        else:\n",
    "            dZ[str(j)] = np.dot(W[str(j+1)].T, dZ[str(j+1)])*sigmoid_derivative(Z[str(j)])\n",
    "        \n",
    "        dW[str(j)] = (1/m)*np.dot(dZ[str(j)], A[str(j-1)].T)\n",
    "        db[str(j)] = (1/m)*np.sum(dZ[str(j)], axis=1, keepdims=True)\n",
    "        \n",
    "        assert(dW[str(j)].shape == W[str(j)].shape)\n",
    "        \n",
    "        W[str(j)] = W[str(j)] - learning_rate*dW[str(j)]\n",
    "        b[str(j)] = b[str(j)] - learning_rate*db[str(j)]\n",
    "    \n",
    "print(A[str(L)])\n",
    "    "
   ]
  },
  {
   "cell_type": "code",
   "execution_count": 55,
   "metadata": {},
   "outputs": [
    {
     "name": "stdout",
     "output_type": "stream",
     "text": [
      "Accuracy 0.9402619047619047\n"
     ]
    }
   ],
   "source": [
    "result1 = np.argmax(A[str(L)].T, axis=1)\n",
    "result2 = np.argmax(Y, axis=1)\n",
    "cnt = 0\n",
    "for i in range(m):\n",
    "    if result1[i] == result2[i]:\n",
    "        cnt += 1\n",
    "print(\"Accuracy\", cnt/m)"
   ]
  },
  {
   "cell_type": "code",
   "execution_count": null,
   "metadata": {
    "collapsed": true
   },
   "outputs": [],
   "source": []
  }
 ],
 "metadata": {
  "kernelspec": {
   "display_name": "Python 3",
   "language": "python",
   "name": "python3"
  }
 },
 "nbformat": 4,
 "nbformat_minor": 1
}
