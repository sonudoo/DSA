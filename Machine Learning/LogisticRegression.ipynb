{
 "cells": [
  {
   "cell_type": "code",
   "execution_count": 40,
   "metadata": {
    "collapsed": true
   },
   "outputs": [],
   "source": [
    "import numpy as np\n",
    "a = np.array([1,2,3,4,5])\n",
    "b = np.array([0,0,1,1,1])\n",
    "\n"
   ]
  },
  {
   "cell_type": "code",
   "execution_count": 28,
   "metadata": {
    "collapsed": true
   },
   "outputs": [],
   "source": [
    "a = a.reshape((5,1))\n",
    "b = b.reshape((5,1))"
   ]
  },
  {
   "cell_type": "code",
   "execution_count": 29,
   "metadata": {
    "collapsed": false
   },
   "outputs": [
    {
     "data": {
      "text/plain": [
       "array([[1],\n",
       "       [2],\n",
       "       [3],\n",
       "       [4],\n",
       "       [5]])"
      ]
     },
     "execution_count": 29,
     "metadata": {},
     "output_type": "execute_result"
    }
   ],
   "source": [
    "a\n"
   ]
  },
  {
   "cell_type": "code",
   "execution_count": 30,
   "metadata": {
    "collapsed": false
   },
   "outputs": [
    {
     "data": {
      "text/plain": [
       "array([[0],\n",
       "       [0],\n",
       "       [1],\n",
       "       [1],\n",
       "       [1]])"
      ]
     },
     "execution_count": 30,
     "metadata": {},
     "output_type": "execute_result"
    }
   ],
   "source": [
    "b"
   ]
  },
  {
   "cell_type": "code",
   "execution_count": 41,
   "metadata": {
    "collapsed": false
   },
   "outputs": [
    {
     "name": "stdout",
     "output_type": "stream",
     "text": [
      "[0 0 1 1 1]\n"
     ]
    }
   ],
   "source": [
    "X = a.reshape(1,5)\n",
    "y = b\n",
    "print(y)"
   ]
  },
  {
   "cell_type": "markdown",
   "metadata": {},
   "source": [
    "From here I am writing the backpropagation algorithm.\n",
    "Okay"
   ]
  },
  {
   "cell_type": "markdown",
   "metadata": {},
   "source": [
    "# Backprop"
   ]
  },
  {
   "cell_type": "code",
   "execution_count": 49,
   "metadata": {
    "collapsed": false
   },
   "outputs": [],
   "source": []
  },
  {
   "cell_type": "code",
   "execution_count": 55,
   "metadata": {
    "collapsed": false
   },
   "outputs": [],
   "source": [
    "y = y.reshape(5,1)"
   ]
  },
  {
   "cell_type": "code",
   "execution_count": 56,
   "metadata": {
    "collapsed": false
   },
   "outputs": [
    {
     "data": {
      "text/plain": [
       "array([[0],\n",
       "       [0],\n",
       "       [1],\n",
       "       [1],\n",
       "       [1]])"
      ]
     },
     "execution_count": 56,
     "metadata": {},
     "output_type": "execute_result"
    }
   ],
   "source": [
    "y"
   ]
  },
  {
   "cell_type": "code",
   "execution_count": 70,
   "metadata": {
    "collapsed": false
   },
   "outputs": [
    {
     "name": "stdout",
     "output_type": "stream",
     "text": [
      "4.04694620435\n",
      "0.0264548771102\n",
      "0.014088927488\n",
      "0.00956287725696\n",
      "0.0072261303131\n",
      "0.00580258331567\n",
      "0.00484549348778\n",
      "0.00415831979449\n",
      "0.00364120779372\n",
      "0.00323809251266\n",
      "0.00291508511029\n",
      "0.00265050355163\n",
      "0.00242983468759\n",
      "0.00224299977208\n",
      "0.00208278222559\n",
      "0.00194387968338\n",
      "0.00182230919903\n",
      "0.0017150211436\n",
      "0.00161964112432\n",
      "0.00153429301297\n",
      "0.00145747483538\n",
      "0.00138796998119\n",
      "0.00132478254202\n",
      "0.00126708946247\n",
      "0.00121420461738\n",
      "0.00116555148674\n",
      "0.0011206421204\n",
      "0.00107906076642\n",
      "0.00104045100006\n",
      "0.00100450551052\n",
      "0.000970957926583\n",
      "0.00093957622175\n",
      "0.000910157353974\n",
      "0.000882522878617\n",
      "0.000856515334561\n",
      "0.000831995249086\n",
      "0.00080883864138\n",
      "0.000786934930461\n",
      "0.000766185173117\n",
      "0.000746500572693\n",
      "0.000727801211382\n",
      "0.00071001496789\n",
      "0.000693076589626\n",
      "0.000676926894266\n",
      "0.000661512080137\n",
      "0.000646783128501\n",
      "0.000632695283767\n",
      "0.000619207600028\n",
      "0.000606282544263\n",
      "0.000593885648112\n",
      "0.000581985201416\n",
      "0.000570551981815\n",
      "0.000559559015526\n",
      "0.000548981365207\n",
      "0.000538795941384\n",
      "0.000528981334446\n",
      "0.000519517664641\n",
      "0.000510386447855\n",
      "0.000501570475284\n",
      "0.000493053705336\n",
      "0.000484821166343\n",
      "0.000476858868843\n",
      "0.000469153726354\n",
      "0.000461693483687\n",
      "0.000454466651989\n",
      "0.000447462449775\n",
      "0.000440670749323\n",
      "0.000434082027875\n",
      "0.000427687323134\n",
      "0.000421478192645\n",
      "0.000415446676644\n",
      "0.000409585264059\n",
      "0.000403886861336\n",
      "0.000398344763836\n",
      "0.000392952629541\n",
      "0.000387704454873\n",
      "0.000382594552422\n",
      "0.000377617530404\n",
      "0.000372768273701\n",
      "0.00036804192635\n",
      "0.000363433875333\n",
      "0.000358939735575\n",
      "0.000354555336041\n",
      "0.000350276706835\n",
      "0.000346100067223\n",
      "0.000342021814499\n",
      "0.00033803851363\n",
      "0.00033414688762\n",
      "0.000330343808518\n",
      "0.000326626289047\n",
      "0.000322991474784\n",
      "0.000319436636857\n",
      "0.000315959165114\n",
      "0.000312556561743\n",
      "0.000309226435292\n",
      "0.000305966495065\n",
      "0.000302774545875\n",
      "0.000299648483119\n",
      "0.000296586288151\n",
      "0.00029358602394\n"
     ]
    }
   ],
   "source": [
    "a = np.array([1,2,3,4,5])\n",
    "b1 = np.array([0,0,1,1,1])\n",
    "X = a.reshape(1,5)\n",
    "y = b1.reshape(5,1)\n",
    "w = np.random.randn(1,1)\n",
    "b = np.random.randn(1,1)[0][0]\n",
    "m = 5\n",
    "for iter in range(10000000):\n",
    "    z = np.dot(w.T, X) + b\n",
    "    a = 1/(1+np.exp(-z))\n",
    "    J = -np.dot(np.log(a),y) - np.dot(np.log(1-a),1-y)\n",
    "    if(iter%100000==0):\n",
    "        print(np.sum(J)/m)\n",
    "    dz = a-y.T\n",
    "    dw = (1/m)*(np.dot(X,dz.T))\n",
    "    db = (1/m)*(np.sum(dz))\n",
    "    w = w - 0.01*(dw)\n",
    "    b = b - 0.01*db\n",
    "    "
   ]
  },
  {
   "cell_type": "code",
   "execution_count": 71,
   "metadata": {
    "collapsed": true
   },
   "outputs": [],
   "source": [
    "def predict(x):\n",
    "    return 1/(1+math.exp(-w[0][0]*x-b))"
   ]
  },
  {
   "cell_type": "code",
   "execution_count": 72,
   "metadata": {
    "collapsed": false
   },
   "outputs": [
    {
     "ename": "NameError",
     "evalue": "name 'math' is not defined",
     "output_type": "error",
     "traceback": [
      "\u001b[1;31m---------------------------------------------------------------------------\u001b[0m",
      "\u001b[1;31mNameError\u001b[0m                                 Traceback (most recent call last)",
      "\u001b[1;32m<ipython-input-72-42252f9e21a4>\u001b[0m in \u001b[0;36m<module>\u001b[1;34m()\u001b[0m\n\u001b[1;32m----> 1\u001b[1;33m \u001b[0mpredict\u001b[0m\u001b[1;33m(\u001b[0m\u001b[1;36m1\u001b[0m\u001b[1;33m)\u001b[0m\u001b[1;33m\u001b[0m\u001b[0m\n\u001b[0m",
      "\u001b[1;32m<ipython-input-71-93354bbee516>\u001b[0m in \u001b[0;36mpredict\u001b[1;34m(x)\u001b[0m\n\u001b[0;32m      1\u001b[0m \u001b[1;32mdef\u001b[0m \u001b[0mpredict\u001b[0m\u001b[1;33m(\u001b[0m\u001b[0mx\u001b[0m\u001b[1;33m)\u001b[0m\u001b[1;33m:\u001b[0m\u001b[1;33m\u001b[0m\u001b[0m\n\u001b[1;32m----> 2\u001b[1;33m     \u001b[1;32mreturn\u001b[0m \u001b[1;36m1\u001b[0m\u001b[1;33m/\u001b[0m\u001b[1;33m(\u001b[0m\u001b[1;36m1\u001b[0m\u001b[1;33m+\u001b[0m\u001b[0mmath\u001b[0m\u001b[1;33m.\u001b[0m\u001b[0mexp\u001b[0m\u001b[1;33m(\u001b[0m\u001b[1;33m-\u001b[0m\u001b[0mw\u001b[0m\u001b[1;33m[\u001b[0m\u001b[1;36m0\u001b[0m\u001b[1;33m]\u001b[0m\u001b[1;33m[\u001b[0m\u001b[1;36m0\u001b[0m\u001b[1;33m]\u001b[0m\u001b[1;33m*\u001b[0m\u001b[0mx\u001b[0m\u001b[1;33m-\u001b[0m\u001b[0mb\u001b[0m\u001b[1;33m)\u001b[0m\u001b[1;33m)\u001b[0m\u001b[1;33m\u001b[0m\u001b[0m\n\u001b[0m",
      "\u001b[1;31mNameError\u001b[0m: name 'math' is not defined"
     ]
    }
   ],
   "source": [
    "predict(1)"
   ]
  },
  {
   "cell_type": "code",
   "execution_count": 73,
   "metadata": {
    "collapsed": true
   },
   "outputs": [],
   "source": [
    "import math\n"
   ]
  },
  {
   "cell_type": "code",
   "execution_count": 74,
   "metadata": {
    "collapsed": false
   },
   "outputs": [
    {
     "data": {
      "text/plain": [
       "4.3691869509206696e-10"
      ]
     },
     "execution_count": 74,
     "metadata": {},
     "output_type": "execute_result"
    }
   ],
   "source": [
    "predict(1)"
   ]
  },
  {
   "cell_type": "code",
   "execution_count": 75,
   "metadata": {
    "collapsed": true
   },
   "outputs": [],
   "source": [
    "px = np.arange(0,5,0.01)"
   ]
  },
  {
   "cell_type": "code",
   "execution_count": 76,
   "metadata": {
    "collapsed": false
   },
   "outputs": [
    {
     "data": {
      "text/plain": [
       "array([ 0.  ,  0.01,  0.02,  0.03,  0.04,  0.05,  0.06,  0.07,  0.08,\n",
       "        0.09,  0.1 ,  0.11,  0.12,  0.13,  0.14,  0.15,  0.16,  0.17,\n",
       "        0.18,  0.19,  0.2 ,  0.21,  0.22,  0.23,  0.24,  0.25,  0.26,\n",
       "        0.27,  0.28,  0.29,  0.3 ,  0.31,  0.32,  0.33,  0.34,  0.35,\n",
       "        0.36,  0.37,  0.38,  0.39,  0.4 ,  0.41,  0.42,  0.43,  0.44,\n",
       "        0.45,  0.46,  0.47,  0.48,  0.49,  0.5 ,  0.51,  0.52,  0.53,\n",
       "        0.54,  0.55,  0.56,  0.57,  0.58,  0.59,  0.6 ,  0.61,  0.62,\n",
       "        0.63,  0.64,  0.65,  0.66,  0.67,  0.68,  0.69,  0.7 ,  0.71,\n",
       "        0.72,  0.73,  0.74,  0.75,  0.76,  0.77,  0.78,  0.79,  0.8 ,\n",
       "        0.81,  0.82,  0.83,  0.84,  0.85,  0.86,  0.87,  0.88,  0.89,\n",
       "        0.9 ,  0.91,  0.92,  0.93,  0.94,  0.95,  0.96,  0.97,  0.98,\n",
       "        0.99,  1.  ,  1.01,  1.02,  1.03,  1.04,  1.05,  1.06,  1.07,\n",
       "        1.08,  1.09,  1.1 ,  1.11,  1.12,  1.13,  1.14,  1.15,  1.16,\n",
       "        1.17,  1.18,  1.19,  1.2 ,  1.21,  1.22,  1.23,  1.24,  1.25,\n",
       "        1.26,  1.27,  1.28,  1.29,  1.3 ,  1.31,  1.32,  1.33,  1.34,\n",
       "        1.35,  1.36,  1.37,  1.38,  1.39,  1.4 ,  1.41,  1.42,  1.43,\n",
       "        1.44,  1.45,  1.46,  1.47,  1.48,  1.49,  1.5 ,  1.51,  1.52,\n",
       "        1.53,  1.54,  1.55,  1.56,  1.57,  1.58,  1.59,  1.6 ,  1.61,\n",
       "        1.62,  1.63,  1.64,  1.65,  1.66,  1.67,  1.68,  1.69,  1.7 ,\n",
       "        1.71,  1.72,  1.73,  1.74,  1.75,  1.76,  1.77,  1.78,  1.79,\n",
       "        1.8 ,  1.81,  1.82,  1.83,  1.84,  1.85,  1.86,  1.87,  1.88,\n",
       "        1.89,  1.9 ,  1.91,  1.92,  1.93,  1.94,  1.95,  1.96,  1.97,\n",
       "        1.98,  1.99,  2.  ,  2.01,  2.02,  2.03,  2.04,  2.05,  2.06,\n",
       "        2.07,  2.08,  2.09,  2.1 ,  2.11,  2.12,  2.13,  2.14,  2.15,\n",
       "        2.16,  2.17,  2.18,  2.19,  2.2 ,  2.21,  2.22,  2.23,  2.24,\n",
       "        2.25,  2.26,  2.27,  2.28,  2.29,  2.3 ,  2.31,  2.32,  2.33,\n",
       "        2.34,  2.35,  2.36,  2.37,  2.38,  2.39,  2.4 ,  2.41,  2.42,\n",
       "        2.43,  2.44,  2.45,  2.46,  2.47,  2.48,  2.49,  2.5 ,  2.51,\n",
       "        2.52,  2.53,  2.54,  2.55,  2.56,  2.57,  2.58,  2.59,  2.6 ,\n",
       "        2.61,  2.62,  2.63,  2.64,  2.65,  2.66,  2.67,  2.68,  2.69,\n",
       "        2.7 ,  2.71,  2.72,  2.73,  2.74,  2.75,  2.76,  2.77,  2.78,\n",
       "        2.79,  2.8 ,  2.81,  2.82,  2.83,  2.84,  2.85,  2.86,  2.87,\n",
       "        2.88,  2.89,  2.9 ,  2.91,  2.92,  2.93,  2.94,  2.95,  2.96,\n",
       "        2.97,  2.98,  2.99,  3.  ,  3.01,  3.02,  3.03,  3.04,  3.05,\n",
       "        3.06,  3.07,  3.08,  3.09,  3.1 ,  3.11,  3.12,  3.13,  3.14,\n",
       "        3.15,  3.16,  3.17,  3.18,  3.19,  3.2 ,  3.21,  3.22,  3.23,\n",
       "        3.24,  3.25,  3.26,  3.27,  3.28,  3.29,  3.3 ,  3.31,  3.32,\n",
       "        3.33,  3.34,  3.35,  3.36,  3.37,  3.38,  3.39,  3.4 ,  3.41,\n",
       "        3.42,  3.43,  3.44,  3.45,  3.46,  3.47,  3.48,  3.49,  3.5 ,\n",
       "        3.51,  3.52,  3.53,  3.54,  3.55,  3.56,  3.57,  3.58,  3.59,\n",
       "        3.6 ,  3.61,  3.62,  3.63,  3.64,  3.65,  3.66,  3.67,  3.68,\n",
       "        3.69,  3.7 ,  3.71,  3.72,  3.73,  3.74,  3.75,  3.76,  3.77,\n",
       "        3.78,  3.79,  3.8 ,  3.81,  3.82,  3.83,  3.84,  3.85,  3.86,\n",
       "        3.87,  3.88,  3.89,  3.9 ,  3.91,  3.92,  3.93,  3.94,  3.95,\n",
       "        3.96,  3.97,  3.98,  3.99,  4.  ,  4.01,  4.02,  4.03,  4.04,\n",
       "        4.05,  4.06,  4.07,  4.08,  4.09,  4.1 ,  4.11,  4.12,  4.13,\n",
       "        4.14,  4.15,  4.16,  4.17,  4.18,  4.19,  4.2 ,  4.21,  4.22,\n",
       "        4.23,  4.24,  4.25,  4.26,  4.27,  4.28,  4.29,  4.3 ,  4.31,\n",
       "        4.32,  4.33,  4.34,  4.35,  4.36,  4.37,  4.38,  4.39,  4.4 ,\n",
       "        4.41,  4.42,  4.43,  4.44,  4.45,  4.46,  4.47,  4.48,  4.49,\n",
       "        4.5 ,  4.51,  4.52,  4.53,  4.54,  4.55,  4.56,  4.57,  4.58,\n",
       "        4.59,  4.6 ,  4.61,  4.62,  4.63,  4.64,  4.65,  4.66,  4.67,\n",
       "        4.68,  4.69,  4.7 ,  4.71,  4.72,  4.73,  4.74,  4.75,  4.76,\n",
       "        4.77,  4.78,  4.79,  4.8 ,  4.81,  4.82,  4.83,  4.84,  4.85,\n",
       "        4.86,  4.87,  4.88,  4.89,  4.9 ,  4.91,  4.92,  4.93,  4.94,\n",
       "        4.95,  4.96,  4.97,  4.98,  4.99])"
      ]
     },
     "execution_count": 76,
     "metadata": {},
     "output_type": "execute_result"
    }
   ],
   "source": [
    "px"
   ]
  },
  {
   "cell_type": "code",
   "execution_count": 80,
   "metadata": {
    "collapsed": false
   },
   "outputs": [],
   "source": [
    "py = np.arange(0,5,0.01)"
   ]
  },
  {
   "cell_type": "code",
   "execution_count": 81,
   "metadata": {
    "collapsed": true
   },
   "outputs": [],
   "source": [
    "for i in range(500):\n",
    "    py[i] = predict(px[i])"
   ]
  },
  {
   "cell_type": "code",
   "execution_count": 82,
   "metadata": {
    "collapsed": false
   },
   "outputs": [
    {
     "data": {
      "text/plain": [
       "array([  2.23979690e-16,   2.58887188e-16,   2.99235061e-16,\n",
       "         3.45871198e-16,   3.99775631e-16,   4.62081134e-16,\n",
       "         5.34097024e-16,   6.17336674e-16,   7.13549321e-16,\n",
       "         8.24756824e-16,   9.53296146e-16,   1.10186847e-15,\n",
       "         1.27359597e-15,   1.47208741e-15,   1.70151396e-15,\n",
       "         1.96669692e-15,   2.27320895e-15,   2.62749124e-15,\n",
       "         3.03698884e-15,   3.51030713e-15,   4.05739263e-15,\n",
       "         4.68974205e-15,   5.42064388e-15,   6.26545761e-15,\n",
       "         7.24193656e-15,   8.37060090e-15,   9.67516891e-15,\n",
       "         1.11830554e-14,   1.29259477e-14,   1.49404719e-14,\n",
       "         1.72689621e-14,   1.99603501e-14,   2.30711942e-14,\n",
       "         2.66668670e-14,   3.08229296e-14,   3.56267195e-14,\n",
       "         4.11791857e-14,   4.75970103e-14,   5.50150604e-14,\n",
       "         6.35892224e-14,   7.34996776e-14,   8.49546889e-14,\n",
       "         9.81949773e-14,   1.13498780e-13,   1.31187699e-13,\n",
       "         1.51633456e-13,   1.75265709e-13,   2.02581076e-13,\n",
       "         2.34153575e-13,   2.70646686e-13,   3.12827291e-13,\n",
       "         3.61581792e-13,   4.17934740e-13,   4.83070362e-13,\n",
       "         5.58357447e-13,   6.45378113e-13,   7.45961052e-13,\n",
       "         8.62219960e-13,   9.96597957e-13,   1.15191892e-12,\n",
       "         1.33144684e-12,   1.53895440e-12,   1.77880226e-12,\n",
       "         2.05603068e-12,   2.37646549e-12,   2.74684043e-12,\n",
       "         3.17493875e-12,   3.66975669e-12,   4.24169260e-12,\n",
       "         4.90276539e-12,   5.66686715e-12,   6.55005507e-12,\n",
       "         7.57088886e-12,   8.75082081e-12,   1.01146465e-11,\n",
       "         1.16910261e-11,   1.35130863e-11,   1.56191167e-11,\n",
       "         1.80533745e-11,   2.08670141e-11,   2.41191629e-11,\n",
       "         2.78781628e-11,   3.22230073e-11,   3.72450010e-11,\n",
       "         4.30496782e-11,   4.97590213e-11,   5.75140234e-11,\n",
       "         6.64776516e-11,   7.68382720e-11,   8.88136071e-11,\n",
       "         1.02655312e-10,   1.18654264e-10,   1.37146671e-10,\n",
       "         1.58521141e-10,   1.83226847e-10,   2.11782967e-10,\n",
       "         2.44789592e-10,   2.82940338e-10,   3.27036923e-10,\n",
       "         3.78006013e-10,   4.36918695e-10,   5.05012988e-10,\n",
       "         5.83719857e-10,   6.74693285e-10,   7.79845028e-10,\n",
       "         9.01384794e-10,   1.04186668e-09,   1.20424282e-09,\n",
       "         1.39192549e-09,   1.60885871e-09,   1.85960124e-09,\n",
       "         2.14942228e-09,   2.48441227e-09,   2.87161085e-09,\n",
       "         3.31915478e-09,   3.83644896e-09,   4.43436405e-09,\n",
       "         5.12546490e-09,   5.92427464e-09,   6.84757982e-09,\n",
       "         7.91478319e-09,   9.14831146e-09,   1.05740866e-08,\n",
       "         1.22220704e-08,   1.41268944e-08,   1.63285875e-08,\n",
       "         1.88734171e-08,   2.18148613e-08,   2.52147330e-08,\n",
       "         2.91444788e-08,   3.36866799e-08,   3.89367885e-08,\n",
       "         4.50051326e-08,   5.20192351e-08,   6.01264937e-08,\n",
       "         6.94972779e-08,   8.03285097e-08,   9.28478013e-08,\n",
       "         1.07318239e-07,   1.24043911e-07,   1.43376298e-07,\n",
       "         1.65721659e-07,   1.91549570e-07,   2.21402789e-07,\n",
       "         2.55908666e-07,   2.95792321e-07,   3.41891887e-07,\n",
       "         3.95176119e-07,   4.56764754e-07,   5.27952042e-07,\n",
       "         6.10233939e-07,   7.05339550e-07,   8.15267460e-07,\n",
       "         9.42327735e-07,   1.08919046e-06,   1.25894186e-06,\n",
       "         1.45514915e-06,   1.68193548e-06,   1.94406660e-06,\n",
       "         2.24705098e-06,   2.59725562e-06,   3.00203975e-06,\n",
       "         3.46990955e-06,   4.01069688e-06,   4.63576581e-06,\n",
       "         5.35825150e-06,   6.19333614e-06,   7.15856796e-06,\n",
       "         8.27422998e-06,   9.56376613e-06,   1.10542739e-05,\n",
       "         1.27770735e-05,   1.47683660e-05,   1.70699940e-05,\n",
       "         1.97303201e-05,   2.28052436e-05,   2.63593740e-05,\n",
       "         3.04673883e-05,   3.52155995e-05,   4.07037687e-05,\n",
       "         4.70472006e-05,   5.43791635e-05,   6.28536875e-05,\n",
       "         7.26487971e-05,   8.39702469e-05,   9.70558386e-05,\n",
       "         1.12180409e-04,   1.29661590e-04,   1.49866474e-04,\n",
       "         1.73219294e-04,   2.00210320e-04,   2.31406114e-04,\n",
       "         2.67461383e-04,   3.09132669e-04,   3.57294145e-04,\n",
       "         4.12955863e-04,   4.77284803e-04,   5.51629169e-04,\n",
       "         6.37546413e-04,   7.36835559e-04,   8.51574457e-04,\n",
       "         9.84162722e-04,   1.13737119e-03,   1.31439884e-03,\n",
       "         1.51893829e-03,   1.75525109e-03,   2.02825420e-03,\n",
       "         2.34361917e-03,   2.70788591e-03,   3.12859276e-03,\n",
       "         3.61442526e-03,   4.17538564e-03,   4.82298591e-03,\n",
       "         5.57046680e-03,   6.43304568e-03,   7.42819593e-03,\n",
       "         8.57596069e-03,   9.89930311e-03,   1.14244952e-02,\n",
       "         1.31815463e-02,   1.52046699e-02,   1.75327888e-02,\n",
       "         2.02100704e-02,   2.32864868e-02,   2.68183832e-02,\n",
       "         3.08690372e-02,   3.55091792e-02,   4.08174369e-02,\n",
       "         4.68806538e-02,   5.37940180e-02,   6.16609225e-02,\n",
       "         7.05924615e-02,   8.07064539e-02,   9.21258726e-02,\n",
       "         1.04976553e-01,   1.19384063e-01,   1.35469642e-01,\n",
       "         1.53345153e-01,   1.73107086e-01,   1.94829729e-01,\n",
       "         2.18557786e-01,   2.44298848e-01,   2.72016291e-01,\n",
       "         3.01623314e-01,   3.32978875e-01,   3.65886301e-01,\n",
       "         4.00095161e-01,   4.35306777e-01,   4.71183326e-01,\n",
       "         5.07360080e-01,   5.43459922e-01,   5.79108920e-01,\n",
       "         6.13951640e-01,   6.47664859e-01,   6.79968613e-01,\n",
       "         7.10633873e-01,   7.39486551e-01,   7.66407995e-01,\n",
       "         7.91332417e-01,   8.14241971e-01,   8.35160232e-01,\n",
       "         8.54144842e-01,   8.71279984e-01,   8.86669178e-01,\n",
       "         9.00428770e-01,   9.12682313e-01,   9.23555919e-01,\n",
       "         9.33174587e-01,   9.41659427e-01,   9.49125678e-01,\n",
       "         9.55681391e-01,   9.61426661e-01,   9.66453284e-01,\n",
       "         9.70844734e-01,   9.74676382e-01,   9.78015870e-01,\n",
       "         9.80923590e-01,   9.83453229e-01,   9.85652330e-01,\n",
       "         9.87562862e-01,   9.89221770e-01,   9.90661499e-01,\n",
       "         9.91910486e-01,   9.92993607e-01,   9.93932594e-01,\n",
       "         9.94746405e-01,   9.95451561e-01,   9.96062442e-01,\n",
       "         9.96591560e-01,   9.97049787e-01,   9.97446568e-01,\n",
       "         9.97790104e-01,   9.98087509e-01,   9.98344956e-01,\n",
       "         9.98567797e-01,   9.98760672e-01,   9.98927599e-01,\n",
       "         9.99072064e-01,   9.99197083e-01,   9.99305271e-01,\n",
       "         9.99398890e-01,   9.99479899e-01,   9.99549996e-01,\n",
       "         9.99610650e-01,   9.99663131e-01,   9.99708540e-01,\n",
       "         9.99747829e-01,   9.99781824e-01,   9.99811236e-01,\n",
       "         9.99836685e-01,   9.99858702e-01,   9.99877752e-01,\n",
       "         9.99894234e-01,   9.99908494e-01,   9.99920831e-01,\n",
       "         9.99931505e-01,   9.99940740e-01,   9.99948730e-01,\n",
       "         9.99955643e-01,   9.99961624e-01,   9.99966798e-01,\n",
       "         9.99971275e-01,   9.99975148e-01,   9.99978499e-01,\n",
       "         9.99981398e-01,   9.99983906e-01,   9.99986076e-01,\n",
       "         9.99987954e-01,   9.99989578e-01,   9.99990983e-01,\n",
       "         9.99992199e-01,   9.99993251e-01,   9.99994161e-01,\n",
       "         9.99994948e-01,   9.99995629e-01,   9.99996219e-01,\n",
       "         9.99996729e-01,   9.99997170e-01,   9.99997551e-01,\n",
       "         9.99997881e-01,   9.99998167e-01,   9.99998414e-01,\n",
       "         9.99998628e-01,   9.99998813e-01,   9.99998973e-01,\n",
       "         9.99999112e-01,   9.99999231e-01,   9.99999335e-01,\n",
       "         9.99999425e-01,   9.99999502e-01,   9.99999569e-01,\n",
       "         9.99999627e-01,   9.99999678e-01,   9.99999721e-01,\n",
       "         9.99999759e-01,   9.99999791e-01,   9.99999819e-01,\n",
       "         9.99999844e-01,   9.99999865e-01,   9.99999883e-01,\n",
       "         9.99999899e-01,   9.99999912e-01,   9.99999924e-01,\n",
       "         9.99999934e-01,   9.99999943e-01,   9.99999951e-01,\n",
       "         9.99999958e-01,   9.99999963e-01,   9.99999968e-01,\n",
       "         9.99999973e-01,   9.99999976e-01,   9.99999979e-01,\n",
       "         9.99999982e-01,   9.99999985e-01,   9.99999987e-01,\n",
       "         9.99999988e-01,   9.99999990e-01,   9.99999991e-01,\n",
       "         9.99999993e-01,   9.99999994e-01,   9.99999994e-01,\n",
       "         9.99999995e-01,   9.99999996e-01,   9.99999996e-01,\n",
       "         9.99999997e-01,   9.99999997e-01,   9.99999998e-01,\n",
       "         9.99999998e-01,   9.99999998e-01,   9.99999998e-01,\n",
       "         9.99999999e-01,   9.99999999e-01,   9.99999999e-01,\n",
       "         9.99999999e-01,   9.99999999e-01,   9.99999999e-01,\n",
       "         9.99999999e-01,   1.00000000e+00,   1.00000000e+00,\n",
       "         1.00000000e+00,   1.00000000e+00,   1.00000000e+00,\n",
       "         1.00000000e+00,   1.00000000e+00,   1.00000000e+00,\n",
       "         1.00000000e+00,   1.00000000e+00,   1.00000000e+00,\n",
       "         1.00000000e+00,   1.00000000e+00,   1.00000000e+00,\n",
       "         1.00000000e+00,   1.00000000e+00,   1.00000000e+00,\n",
       "         1.00000000e+00,   1.00000000e+00,   1.00000000e+00,\n",
       "         1.00000000e+00,   1.00000000e+00,   1.00000000e+00,\n",
       "         1.00000000e+00,   1.00000000e+00,   1.00000000e+00,\n",
       "         1.00000000e+00,   1.00000000e+00,   1.00000000e+00,\n",
       "         1.00000000e+00,   1.00000000e+00,   1.00000000e+00,\n",
       "         1.00000000e+00,   1.00000000e+00,   1.00000000e+00,\n",
       "         1.00000000e+00,   1.00000000e+00,   1.00000000e+00,\n",
       "         1.00000000e+00,   1.00000000e+00,   1.00000000e+00,\n",
       "         1.00000000e+00,   1.00000000e+00,   1.00000000e+00,\n",
       "         1.00000000e+00,   1.00000000e+00,   1.00000000e+00,\n",
       "         1.00000000e+00,   1.00000000e+00,   1.00000000e+00,\n",
       "         1.00000000e+00,   1.00000000e+00,   1.00000000e+00,\n",
       "         1.00000000e+00,   1.00000000e+00,   1.00000000e+00,\n",
       "         1.00000000e+00,   1.00000000e+00,   1.00000000e+00,\n",
       "         1.00000000e+00,   1.00000000e+00,   1.00000000e+00,\n",
       "         1.00000000e+00,   1.00000000e+00,   1.00000000e+00,\n",
       "         1.00000000e+00,   1.00000000e+00,   1.00000000e+00,\n",
       "         1.00000000e+00,   1.00000000e+00,   1.00000000e+00,\n",
       "         1.00000000e+00,   1.00000000e+00,   1.00000000e+00,\n",
       "         1.00000000e+00,   1.00000000e+00,   1.00000000e+00,\n",
       "         1.00000000e+00,   1.00000000e+00,   1.00000000e+00,\n",
       "         1.00000000e+00,   1.00000000e+00,   1.00000000e+00,\n",
       "         1.00000000e+00,   1.00000000e+00,   1.00000000e+00,\n",
       "         1.00000000e+00,   1.00000000e+00,   1.00000000e+00,\n",
       "         1.00000000e+00,   1.00000000e+00,   1.00000000e+00,\n",
       "         1.00000000e+00,   1.00000000e+00,   1.00000000e+00,\n",
       "         1.00000000e+00,   1.00000000e+00,   1.00000000e+00,\n",
       "         1.00000000e+00,   1.00000000e+00,   1.00000000e+00,\n",
       "         1.00000000e+00,   1.00000000e+00])"
      ]
     },
     "execution_count": 82,
     "metadata": {},
     "output_type": "execute_result"
    }
   ],
   "source": [
    "py\n"
   ]
  },
  {
   "cell_type": "code",
   "execution_count": 83,
   "metadata": {
    "collapsed": true
   },
   "outputs": [],
   "source": [
    "from matplotlib import pyplot as plt\n"
   ]
  },
  {
   "cell_type": "code",
   "execution_count": 84,
   "metadata": {
    "collapsed": false
   },
   "outputs": [
    {
     "ename": "AttributeError",
     "evalue": "module 'matplotlib.pyplot' has no attribute 'setx'",
     "output_type": "error",
     "traceback": [
      "\u001b[1;31m---------------------------------------------------------------------------\u001b[0m",
      "\u001b[1;31mAttributeError\u001b[0m                            Traceback (most recent call last)",
      "\u001b[1;32m<ipython-input-84-767d7982ca0c>\u001b[0m in \u001b[0;36m<module>\u001b[1;34m()\u001b[0m\n\u001b[1;32m----> 1\u001b[1;33m \u001b[0mplt\u001b[0m\u001b[1;33m.\u001b[0m\u001b[0msetx\u001b[0m\u001b[1;33m(\u001b[0m\u001b[0mpx\u001b[0m\u001b[1;33m)\u001b[0m\u001b[1;33m\u001b[0m\u001b[0m\n\u001b[0m",
      "\u001b[1;31mAttributeError\u001b[0m: module 'matplotlib.pyplot' has no attribute 'setx'"
     ]
    }
   ],
   "source": [
    "plt.setx(px)"
   ]
  },
  {
   "cell_type": "code",
   "execution_count": 87,
   "metadata": {
    "collapsed": false
   },
   "outputs": [
    {
     "data": {
      "text/plain": [
       "[<matplotlib.lines.Line2D at 0x448dff54a8>]"
      ]
     },
     "execution_count": 87,
     "metadata": {},
     "output_type": "execute_result"
    },
    {
     "data": {
      "image/png": "[encoded data removed]",
      "text/plain": [
       "<matplotlib.figure.Figure at 0x448df89208>"
      ]
     },
     "metadata": {},
     "output_type": "display_data"
    }
   ],
   "source": [
    "plt.plot(px,py)"
   ]
  },
  {
   "cell_type": "code",
   "execution_count": null,
   "metadata": {
    "collapsed": true
   },
   "outputs": [],
   "source": []
  },
  {
   "cell_type": "code",
   "execution_count": 86,
   "metadata": {
    "collapsed": true
   },
   "outputs": [],
   "source": [
    "%matplotlib inline"
   ]
  },
  {
   "cell_type": "code",
   "execution_count": null,
   "metadata": {
    "collapsed": true
   },
   "outputs": [],
   "source": []
  }
 ],
 "metadata": {
  "kernelspec": {
   "display_name": "Python [Root]",
   "language": "python",
   "name": "Python [Root]"
  },
  "language_info": {
   "codemirror_mode": {
    "name": "ipython",
    "version": 3
   },
   "file_extension": ".py",
   "mimetype": "text/x-python",
   "name": "python",
   "nbconvert_exporter": "python",
   "pygments_lexer": "ipython3",
   "version": "3.5.1"
  }
 },
 "nbformat": 4,
 "nbformat_minor": 0
}
