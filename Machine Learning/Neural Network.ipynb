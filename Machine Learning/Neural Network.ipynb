{
 "cells": [
  {
   "cell_type": "code",
   "execution_count": 1,
   "metadata": {},
   "outputs": [],
   "source": [
    "import numpy as np"
   ]
  },
  {
   "cell_type": "code",
   "execution_count": 38,
   "metadata": {},
   "outputs": [
    {
     "name": "stdout",
     "output_type": "stream",
     "text": [
      "[[0.39159408 0.36630122 0.35265668 0.33800263]]\n",
      "0.9070435325022035\n",
      "[[0.38702128 0.83276386 0.84223977 0.9300234 ]]\n",
      "0.22916657301068205\n",
      "[[0.07051506 0.96605835 0.96731682 0.99227647]]\n",
      "0.03715960745981244\n",
      "[[0.0325645  0.98433019 0.98471079 0.99665022]]\n",
      "0.016915776418660163\n",
      "[[0.02044062 0.99019278 0.99037287 0.99792867]]\n",
      "0.010563823603022169\n",
      "[[0.01469857 0.99296657 0.99307177 0.99851586]]\n",
      "0.007575882303454407\n",
      "[[0.01139942 0.99455771 0.99462697 0.99884861]]\n",
      "0.005865405135399684\n",
      "[[0.00927416 0.99558104 0.99563028 0.99906149]]\n",
      "0.004766106220478539\n",
      "[[0.00779767 0.99629092 0.99632784 0.99920888]]\n",
      "0.0040036401644313446\n",
      "[[0.00671546 0.99681052 0.99683931 0.99931674]]\n",
      "0.0034454688604593146\n"
     ]
    }
   ],
   "source": [
    "X = [[0,0,1,1],[0,1,0,1]]\n",
    "y = [[0, 1, 1, 1]]\n",
    "m = len(X[0])\n",
    "input_layer_size = 2\n",
    "hidden_layer_size = 2\n",
    "output_layer_size = 1\n",
    "X = np.matrix(X)\n",
    "y = np.matrix(y)\n",
    "w1 = np.random.randn(hidden_layer_size, input_layer_size)\n",
    "b1 = np.random.randn(hidden_layer_size,1)\n",
    "w2 = np.random.randn(output_layer_size, hidden_layer_size)\n",
    "b2 = np.random.randn(output_layer_size,1)\n",
    "for i in range(100000):\n",
    "    # Forward Propagation\n",
    "    z1 = np.dot(w1,X)+b1\n",
    "    a1 = 1/(1+np.exp(-z1))\n",
    "    z2 = np.dot(w2,a1)+b2\n",
    "    a2 = 1/(1+np.exp(-z2))\n",
    "    \n",
    "    #Cost Calculation\n",
    "    J = (-1/m)*np.sum(np.multiply(np.log(a2),y) + np.multiply(np.log(1-a2),(1-y)))\n",
    "    if(i%10000==0):\n",
    "        print(a2)\n",
    "        print(J)\n",
    "    \n",
    "    # Backward Propagation\n",
    "    dz2 = a2-y\n",
    "    dw2 = (1/m)*(np.dot(dz2, a1.T))\n",
    "    db2 = (1/m)*np.sum(dz2, axis=1)\n",
    "    gz1 = 1/(1+np.exp(-z1))\n",
    "    dz1 = np.multiply(np.dot(w2.T, dz2), np.multiply(gz1,1-gz1))\n",
    "    dw1 = (1/m)*(np.dot(dz1, X.T))\n",
    "    db1 = (1/m)*np.sum(dz1, axis=1)\n",
    "    w1 = w1 - 0.01*dw1\n",
    "    w2 = w2 - 0.01*dw2\n",
    "    b1 = b1 - 0.01*db1\n",
    "    b2 = b2 - 0.01*db2\n",
    "    "
   ]
  },
  {
   "cell_type": "code",
   "execution_count": null,
   "metadata": {},
   "outputs": [],
   "source": []
  },
  {
   "cell_type": "code",
   "execution_count": null,
   "metadata": {},
   "outputs": [],
   "source": []
  }
 ],
 "metadata": {
  "kernelspec": {
   "display_name": "Python 3",
   "language": "python",
   "name": "python3"
  },
  "language_info": {
   "codemirror_mode": {
    "name": "ipython",
    "version": 3
   },
   "file_extension": ".py",
   "mimetype": "text/x-python",
   "name": "python",
   "nbconvert_exporter": "python",
   "pygments_lexer": "ipython3",
   "version": "3.6.5"
  }
 },
 "nbformat": 4,
 "nbformat_minor": 2
}
